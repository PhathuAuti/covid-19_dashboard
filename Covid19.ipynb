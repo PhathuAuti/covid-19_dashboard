{
 "cells": [
  {
   "cell_type": "markdown",
   "metadata": {},
   "source": [
    "## Covid-19 Data \n",
    "### API data to Jupyter Notebook to Google Sheets\n",
    "In this notebook, We connect this notebook with a google sheet, where every update made in the API will be updated in the google sheet whenever this notebook is processed. The running of this notebook will take place once daily, as the API source is also updated once a day.\n"
   ]
  },
  {
   "cell_type": "code",
   "execution_count": 1,
   "metadata": {},
   "outputs": [],
   "source": [
    "# Loading all the libraries we need\n",
    "import requests\n",
    "import json\n",
    "import pandas as pd\n",
    "import gspread\n",
    "from oauth2client.service_account import ServiceAccountCredentials\n",
    "from df2gspread import df2gspread as d2g"
   ]
  },
  {
   "cell_type": "code",
   "execution_count": 2,
   "metadata": {},
   "outputs": [],
   "source": [
    "# Linking this notebook with google sheet\n",
    "scope = ['https://spreadsheets.google.com/feeds']\n",
    "credentials = ServiceAccountCredentials.from_json_keyfile_name('covid-19-jgs-f5e0a4db4c99.json', scope)\n",
    "gc = gspread.authorize(credentials)\n",
    "spreadsheet_key = '10cJhEec8cC4D0JlhpDXd3q0d_c8pm6aNffjv-IxptHs'"
   ]
  },
  {
   "cell_type": "code",
   "execution_count": 3,
   "metadata": {},
   "outputs": [],
   "source": [
    "# spreadsheet_key = '10cJhEec8cC4D0JlhpDXd3q0d_c8pm6aNffjv-IxptHs'\n",
    "# book = gc.open_by_key(spreadsheet_key)\n",
    "# worksheet = book.worksheet(\"Covid-19 Data\")\n",
    "# table = worksheet.get_all_values()"
   ]
  },
  {
   "cell_type": "markdown",
   "metadata": {},
   "source": [
    "### The following section consists of three different API links fom the same source https://covid19api.com/ and they are all preprocessed in this notebook, converted into dataframe tables then saved in our google sheet."
   ]
  },
  {
   "cell_type": "code",
   "execution_count": 4,
   "metadata": {},
   "outputs": [
    {
     "name": "stdout",
     "output_type": "stream",
     "text": [
      "200\n"
     ]
    }
   ],
   "source": [
    "# Loading the Covid-19 Summarised Data\n",
    "response = requests.get(\"https://api.covid19api.com/summary\")\n",
    "print(response.status_code)"
   ]
  },
  {
   "cell_type": "code",
   "execution_count": 5,
   "metadata": {},
   "outputs": [],
   "source": [
    "def jprint(obj):\n",
    "    # create a formatted string of the Python JSON object\n",
    "    text = json.dumps(obj, sort_keys = True, indent = 4, separators = (',', ': '))\n",
    "\n",
    "# type(response.json())"
   ]
  },
  {
   "cell_type": "code",
   "execution_count": 6,
   "metadata": {},
   "outputs": [
    {
     "name": "stdout",
     "output_type": "stream",
     "text": [
      "Global\n",
      "Countries\n",
      "Date\n"
     ]
    }
   ],
   "source": [
    "for i in response.json():\n",
    "    print(i)"
   ]
  },
  {
   "cell_type": "code",
   "execution_count": 7,
   "metadata": {},
   "outputs": [],
   "source": [
    "for i in response.json():\n",
    "    Countries = response.json()['Countries']\n",
    "#     print(Countries)"
   ]
  },
  {
   "cell_type": "code",
   "execution_count": 8,
   "metadata": {},
   "outputs": [
    {
     "data": {
      "text/html": [
       "<div>\n",
       "<style scoped>\n",
       "    .dataframe tbody tr th:only-of-type {\n",
       "        vertical-align: middle;\n",
       "    }\n",
       "\n",
       "    .dataframe tbody tr th {\n",
       "        vertical-align: top;\n",
       "    }\n",
       "\n",
       "    .dataframe thead th {\n",
       "        text-align: right;\n",
       "    }\n",
       "</style>\n",
       "<table border=\"1\" class=\"dataframe\">\n",
       "  <thead>\n",
       "    <tr style=\"text-align: right;\">\n",
       "      <th></th>\n",
       "      <th>Country</th>\n",
       "      <th>CountryCode</th>\n",
       "      <th>Slug</th>\n",
       "      <th>NewConfirmed</th>\n",
       "      <th>TotalConfirmed</th>\n",
       "      <th>NewDeaths</th>\n",
       "      <th>TotalDeaths</th>\n",
       "      <th>NewRecovered</th>\n",
       "      <th>TotalRecovered</th>\n",
       "      <th>Date</th>\n",
       "    </tr>\n",
       "  </thead>\n",
       "  <tbody>\n",
       "    <tr>\n",
       "      <th>0</th>\n",
       "      <td>Afghanistan</td>\n",
       "      <td>AF</td>\n",
       "      <td>afghanistan</td>\n",
       "      <td>584</td>\n",
       "      <td>10582</td>\n",
       "      <td>2</td>\n",
       "      <td>218</td>\n",
       "      <td>35</td>\n",
       "      <td>1075</td>\n",
       "      <td>2020-05-25T07:46:58Z</td>\n",
       "    </tr>\n",
       "    <tr>\n",
       "      <th>1</th>\n",
       "      <td>Albania</td>\n",
       "      <td>AL</td>\n",
       "      <td>albania</td>\n",
       "      <td>9</td>\n",
       "      <td>998</td>\n",
       "      <td>1</td>\n",
       "      <td>32</td>\n",
       "      <td>6</td>\n",
       "      <td>789</td>\n",
       "      <td>2020-05-25T07:46:58Z</td>\n",
       "    </tr>\n",
       "    <tr>\n",
       "      <th>2</th>\n",
       "      <td>Algeria</td>\n",
       "      <td>DZ</td>\n",
       "      <td>algeria</td>\n",
       "      <td>193</td>\n",
       "      <td>8306</td>\n",
       "      <td>8</td>\n",
       "      <td>600</td>\n",
       "      <td>358</td>\n",
       "      <td>4784</td>\n",
       "      <td>2020-05-25T07:46:58Z</td>\n",
       "    </tr>\n",
       "    <tr>\n",
       "      <th>3</th>\n",
       "      <td>Andorra</td>\n",
       "      <td>AD</td>\n",
       "      <td>andorra</td>\n",
       "      <td>0</td>\n",
       "      <td>762</td>\n",
       "      <td>0</td>\n",
       "      <td>51</td>\n",
       "      <td>0</td>\n",
       "      <td>653</td>\n",
       "      <td>2020-05-25T07:46:58Z</td>\n",
       "    </tr>\n",
       "    <tr>\n",
       "      <th>4</th>\n",
       "      <td>Angola</td>\n",
       "      <td>AO</td>\n",
       "      <td>angola</td>\n",
       "      <td>8</td>\n",
       "      <td>69</td>\n",
       "      <td>0</td>\n",
       "      <td>4</td>\n",
       "      <td>0</td>\n",
       "      <td>18</td>\n",
       "      <td>2020-05-25T07:46:58Z</td>\n",
       "    </tr>\n",
       "  </tbody>\n",
       "</table>\n",
       "</div>"
      ],
      "text/plain": [
       "       Country CountryCode         Slug  NewConfirmed  TotalConfirmed  \\\n",
       "0  Afghanistan          AF  afghanistan           584           10582   \n",
       "1      Albania          AL      albania             9             998   \n",
       "2      Algeria          DZ      algeria           193            8306   \n",
       "3      Andorra          AD      andorra             0             762   \n",
       "4       Angola          AO       angola             8              69   \n",
       "\n",
       "   NewDeaths  TotalDeaths  NewRecovered  TotalRecovered                  Date  \n",
       "0          2          218            35            1075  2020-05-25T07:46:58Z  \n",
       "1          1           32             6             789  2020-05-25T07:46:58Z  \n",
       "2          8          600           358            4784  2020-05-25T07:46:58Z  \n",
       "3          0           51             0             653  2020-05-25T07:46:58Z  \n",
       "4          0            4             0              18  2020-05-25T07:46:58Z  "
      ]
     },
     "execution_count": 8,
     "metadata": {},
     "output_type": "execute_result"
    }
   ],
   "source": [
    "Country = pd.DataFrame(Countries)\n",
    "Country.head()"
   ]
  },
  {
   "cell_type": "code",
   "execution_count": 9,
   "metadata": {},
   "outputs": [
    {
     "data": {
      "text/plain": [
       "<Worksheet 'Covid-19 Summary' id:0>"
      ]
     },
     "execution_count": 9,
     "metadata": {},
     "output_type": "execute_result"
    }
   ],
   "source": [
    "# Set the sheet name you want to upload data to and the start cell where the upload data begins \n",
    "wks_name = 'Covid-19 Summary'\n",
    "\n",
    "# upload the dataframe of the clients we want to delete\n",
    "d2g.upload(Country, spreadsheet_key, wks_name, credentials = credentials, col_names = True, \n",
    "           row_names = True, clean = True)"
   ]
  },
  {
   "cell_type": "code",
   "execution_count": 10,
   "metadata": {},
   "outputs": [
    {
     "name": "stdout",
     "output_type": "stream",
     "text": [
      "200\n"
     ]
    }
   ],
   "source": [
    "# Loading the Covid-19 South African Confirmed Cases only Data\n",
    "response2 = requests.get(\"https://api.covid19api.com/total/dayone/country/south-africa/status/confirmed\")\n",
    "print(response2.status_code)"
   ]
  },
  {
   "cell_type": "code",
   "execution_count": 11,
   "metadata": {},
   "outputs": [
    {
     "data": {
      "text/plain": [
       "list"
      ]
     },
     "execution_count": 11,
     "metadata": {},
     "output_type": "execute_result"
    }
   ],
   "source": [
    "def jprint(obj):\n",
    "    # create a formatted string of the Python JSON object\n",
    "    text = json.dumps(obj, sort_keys = True, indent = 4, separators = (',', ': '))\n",
    "    \n",
    "type(response2.json())"
   ]
  },
  {
   "cell_type": "code",
   "execution_count": 12,
   "metadata": {},
   "outputs": [
    {
     "data": {
      "text/html": [
       "<div>\n",
       "<style scoped>\n",
       "    .dataframe tbody tr th:only-of-type {\n",
       "        vertical-align: middle;\n",
       "    }\n",
       "\n",
       "    .dataframe tbody tr th {\n",
       "        vertical-align: top;\n",
       "    }\n",
       "\n",
       "    .dataframe thead th {\n",
       "        text-align: right;\n",
       "    }\n",
       "</style>\n",
       "<table border=\"1\" class=\"dataframe\">\n",
       "  <thead>\n",
       "    <tr style=\"text-align: right;\">\n",
       "      <th></th>\n",
       "      <th>Country</th>\n",
       "      <th>CountryCode</th>\n",
       "      <th>Province</th>\n",
       "      <th>City</th>\n",
       "      <th>CityCode</th>\n",
       "      <th>Lat</th>\n",
       "      <th>Lon</th>\n",
       "      <th>Cases</th>\n",
       "      <th>Status</th>\n",
       "      <th>Date</th>\n",
       "    </tr>\n",
       "  </thead>\n",
       "  <tbody>\n",
       "    <tr>\n",
       "      <th>76</th>\n",
       "      <td>South Africa</td>\n",
       "      <td></td>\n",
       "      <td></td>\n",
       "      <td></td>\n",
       "      <td></td>\n",
       "      <td>0</td>\n",
       "      <td>0</td>\n",
       "      <td>18003</td>\n",
       "      <td>confirmed</td>\n",
       "      <td>2020-05-20T00:00:00Z</td>\n",
       "    </tr>\n",
       "    <tr>\n",
       "      <th>77</th>\n",
       "      <td>South Africa</td>\n",
       "      <td></td>\n",
       "      <td></td>\n",
       "      <td></td>\n",
       "      <td></td>\n",
       "      <td>0</td>\n",
       "      <td>0</td>\n",
       "      <td>19137</td>\n",
       "      <td>confirmed</td>\n",
       "      <td>2020-05-21T00:00:00Z</td>\n",
       "    </tr>\n",
       "    <tr>\n",
       "      <th>78</th>\n",
       "      <td>South Africa</td>\n",
       "      <td></td>\n",
       "      <td></td>\n",
       "      <td></td>\n",
       "      <td></td>\n",
       "      <td>0</td>\n",
       "      <td>0</td>\n",
       "      <td>20125</td>\n",
       "      <td>confirmed</td>\n",
       "      <td>2020-05-22T00:00:00Z</td>\n",
       "    </tr>\n",
       "    <tr>\n",
       "      <th>79</th>\n",
       "      <td>South Africa</td>\n",
       "      <td></td>\n",
       "      <td></td>\n",
       "      <td></td>\n",
       "      <td></td>\n",
       "      <td>0</td>\n",
       "      <td>0</td>\n",
       "      <td>21343</td>\n",
       "      <td>confirmed</td>\n",
       "      <td>2020-05-23T00:00:00Z</td>\n",
       "    </tr>\n",
       "    <tr>\n",
       "      <th>80</th>\n",
       "      <td>South Africa</td>\n",
       "      <td></td>\n",
       "      <td></td>\n",
       "      <td></td>\n",
       "      <td></td>\n",
       "      <td>0</td>\n",
       "      <td>0</td>\n",
       "      <td>22583</td>\n",
       "      <td>confirmed</td>\n",
       "      <td>2020-05-24T00:00:00Z</td>\n",
       "    </tr>\n",
       "  </tbody>\n",
       "</table>\n",
       "</div>"
      ],
      "text/plain": [
       "         Country CountryCode Province City CityCode Lat Lon  Cases     Status  \\\n",
       "76  South Africa                                      0   0  18003  confirmed   \n",
       "77  South Africa                                      0   0  19137  confirmed   \n",
       "78  South Africa                                      0   0  20125  confirmed   \n",
       "79  South Africa                                      0   0  21343  confirmed   \n",
       "80  South Africa                                      0   0  22583  confirmed   \n",
       "\n",
       "                    Date  \n",
       "76  2020-05-20T00:00:00Z  \n",
       "77  2020-05-21T00:00:00Z  \n",
       "78  2020-05-22T00:00:00Z  \n",
       "79  2020-05-23T00:00:00Z  \n",
       "80  2020-05-24T00:00:00Z  "
      ]
     },
     "execution_count": 12,
     "metadata": {},
     "output_type": "execute_result"
    }
   ],
   "source": [
    "SA_confirmed = pd.DataFrame(response2.json())\n",
    "SA_confirmed.tail()"
   ]
  },
  {
   "cell_type": "code",
   "execution_count": 13,
   "metadata": {},
   "outputs": [],
   "source": [
    "# SA_confirmed.drop(SA_confirmed.tail(1).index,inplace=True)\n",
    "# SA_confirmed.tail()"
   ]
  },
  {
   "cell_type": "code",
   "execution_count": 14,
   "metadata": {},
   "outputs": [
    {
     "data": {
      "text/plain": [
       "<Worksheet 'Covid-19: SA Data' id:1067330366>"
      ]
     },
     "execution_count": 14,
     "metadata": {},
     "output_type": "execute_result"
    }
   ],
   "source": [
    "# Set the sheet name you want to upload data to and the start cell where the upload data begins \n",
    "wks_name = 'Covid-19: SA Data'\n",
    "\n",
    "# upload the dataframe of the clients we want to delete\n",
    "d2g.upload(SA_confirmed, spreadsheet_key, wks_name, credentials = credentials, col_names = True, \n",
    "           row_names = True, clean = True)"
   ]
  },
  {
   "cell_type": "code",
   "execution_count": 15,
   "metadata": {},
   "outputs": [
    {
     "name": "stdout",
     "output_type": "stream",
     "text": [
      "200\n"
     ]
    }
   ],
   "source": [
    "# Loading the Covid-19 South African Summarised Data\n",
    "response3 = requests.get(\"https://api.covid19api.com/total/country/south-africa\")\n",
    "print(response2.status_code)"
   ]
  },
  {
   "cell_type": "code",
   "execution_count": 16,
   "metadata": {},
   "outputs": [
    {
     "data": {
      "text/plain": [
       "list"
      ]
     },
     "execution_count": 16,
     "metadata": {},
     "output_type": "execute_result"
    }
   ],
   "source": [
    "def jprint(obj):\n",
    "    # create a formatted string of the Python JSON object\n",
    "    text = json.dumps(obj, sort_keys = True, indent = 4, separators = (',', ': '))\n",
    "    \n",
    "type(response3.json())"
   ]
  },
  {
   "cell_type": "code",
   "execution_count": 17,
   "metadata": {},
   "outputs": [
    {
     "data": {
      "text/html": [
       "<div>\n",
       "<style scoped>\n",
       "    .dataframe tbody tr th:only-of-type {\n",
       "        vertical-align: middle;\n",
       "    }\n",
       "\n",
       "    .dataframe tbody tr th {\n",
       "        vertical-align: top;\n",
       "    }\n",
       "\n",
       "    .dataframe thead th {\n",
       "        text-align: right;\n",
       "    }\n",
       "</style>\n",
       "<table border=\"1\" class=\"dataframe\">\n",
       "  <thead>\n",
       "    <tr style=\"text-align: right;\">\n",
       "      <th></th>\n",
       "      <th>Country</th>\n",
       "      <th>CountryCode</th>\n",
       "      <th>Province</th>\n",
       "      <th>City</th>\n",
       "      <th>CityCode</th>\n",
       "      <th>Lat</th>\n",
       "      <th>Lon</th>\n",
       "      <th>Confirmed</th>\n",
       "      <th>Deaths</th>\n",
       "      <th>Recovered</th>\n",
       "      <th>Active</th>\n",
       "      <th>Date</th>\n",
       "    </tr>\n",
       "  </thead>\n",
       "  <tbody>\n",
       "    <tr>\n",
       "      <th>119</th>\n",
       "      <td>South Africa</td>\n",
       "      <td></td>\n",
       "      <td></td>\n",
       "      <td></td>\n",
       "      <td></td>\n",
       "      <td>0</td>\n",
       "      <td>0</td>\n",
       "      <td>18003</td>\n",
       "      <td>339</td>\n",
       "      <td>8950</td>\n",
       "      <td>8714</td>\n",
       "      <td>2020-05-20T00:00:00Z</td>\n",
       "    </tr>\n",
       "    <tr>\n",
       "      <th>120</th>\n",
       "      <td>South Africa</td>\n",
       "      <td></td>\n",
       "      <td></td>\n",
       "      <td></td>\n",
       "      <td></td>\n",
       "      <td>0</td>\n",
       "      <td>0</td>\n",
       "      <td>19137</td>\n",
       "      <td>369</td>\n",
       "      <td>8950</td>\n",
       "      <td>9818</td>\n",
       "      <td>2020-05-21T00:00:00Z</td>\n",
       "    </tr>\n",
       "    <tr>\n",
       "      <th>121</th>\n",
       "      <td>South Africa</td>\n",
       "      <td></td>\n",
       "      <td></td>\n",
       "      <td></td>\n",
       "      <td></td>\n",
       "      <td>0</td>\n",
       "      <td>0</td>\n",
       "      <td>20125</td>\n",
       "      <td>397</td>\n",
       "      <td>10104</td>\n",
       "      <td>9624</td>\n",
       "      <td>2020-05-22T00:00:00Z</td>\n",
       "    </tr>\n",
       "    <tr>\n",
       "      <th>122</th>\n",
       "      <td>South Africa</td>\n",
       "      <td></td>\n",
       "      <td></td>\n",
       "      <td></td>\n",
       "      <td></td>\n",
       "      <td>0</td>\n",
       "      <td>0</td>\n",
       "      <td>21343</td>\n",
       "      <td>407</td>\n",
       "      <td>10104</td>\n",
       "      <td>10832</td>\n",
       "      <td>2020-05-23T00:00:00Z</td>\n",
       "    </tr>\n",
       "    <tr>\n",
       "      <th>123</th>\n",
       "      <td>South Africa</td>\n",
       "      <td></td>\n",
       "      <td></td>\n",
       "      <td></td>\n",
       "      <td></td>\n",
       "      <td>0</td>\n",
       "      <td>0</td>\n",
       "      <td>22583</td>\n",
       "      <td>429</td>\n",
       "      <td>11100</td>\n",
       "      <td>11054</td>\n",
       "      <td>2020-05-24T00:00:00Z</td>\n",
       "    </tr>\n",
       "  </tbody>\n",
       "</table>\n",
       "</div>"
      ],
      "text/plain": [
       "          Country CountryCode Province City CityCode Lat Lon  Confirmed  \\\n",
       "119  South Africa                                      0   0      18003   \n",
       "120  South Africa                                      0   0      19137   \n",
       "121  South Africa                                      0   0      20125   \n",
       "122  South Africa                                      0   0      21343   \n",
       "123  South Africa                                      0   0      22583   \n",
       "\n",
       "     Deaths  Recovered  Active                  Date  \n",
       "119     339       8950    8714  2020-05-20T00:00:00Z  \n",
       "120     369       8950    9818  2020-05-21T00:00:00Z  \n",
       "121     397      10104    9624  2020-05-22T00:00:00Z  \n",
       "122     407      10104   10832  2020-05-23T00:00:00Z  \n",
       "123     429      11100   11054  2020-05-24T00:00:00Z  "
      ]
     },
     "execution_count": 17,
     "metadata": {},
     "output_type": "execute_result"
    }
   ],
   "source": [
    "SA_live = pd.DataFrame(response3.json())\n",
    "SA_live.tail()"
   ]
  },
  {
   "cell_type": "code",
   "execution_count": 18,
   "metadata": {},
   "outputs": [
    {
     "data": {
      "text/plain": [
       "<Worksheet 'Covid-19: SA Summary' id:1351985275>"
      ]
     },
     "execution_count": 18,
     "metadata": {},
     "output_type": "execute_result"
    }
   ],
   "source": [
    "# Set the sheet name you want to upload data to and the start cell where the upload data begins \n",
    "wks_name = 'Covid-19: SA Summary'\n",
    "\n",
    "# upload the dataframe of the clients we want to delete\n",
    "d2g.upload(SA_live, spreadsheet_key, wks_name, credentials = credentials, col_names = True, \n",
    "           row_names = True, clean = True)"
   ]
  },
  {
   "cell_type": "code",
   "execution_count": null,
   "metadata": {},
   "outputs": [],
   "source": []
  }
 ],
 "metadata": {
  "kernelspec": {
   "display_name": "Python 3",
   "language": "python",
   "name": "python3"
  },
  "language_info": {
   "codemirror_mode": {
    "name": "ipython",
    "version": 3
   },
   "file_extension": ".py",
   "mimetype": "text/x-python",
   "name": "python",
   "nbconvert_exporter": "python",
   "pygments_lexer": "ipython3",
   "version": "3.7.3"
  }
 },
 "nbformat": 4,
 "nbformat_minor": 4
}
