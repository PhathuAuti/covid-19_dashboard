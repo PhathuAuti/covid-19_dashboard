{
 "cells": [
  {
   "cell_type": "markdown",
   "metadata": {},
   "source": [
    "## Covid-19 Data \n",
    "### API data to Jupyter Notebook to Google Sheets\n",
    "In this notebook, We connect this notebook with a google sheet, where every update made in the API will be updated in the google sheet whenever this notebook is processed. The running of this notebook will take place once daily, as the API source is also updated once a day.\n"
   ]
  },
  {
   "cell_type": "code",
   "execution_count": 1,
   "metadata": {
    "scrolled": true
   },
   "outputs": [],
   "source": [
    "# Loading all the libraries we need\n",
    "import requests\n",
    "import json\n",
    "import pandas as pd\n",
    "import gspread\n",
    "from oauth2client.service_account import ServiceAccountCredentials\n",
    "from df2gspread import df2gspread as d2g"
   ]
  },
  {
   "cell_type": "code",
   "execution_count": 2,
   "metadata": {},
   "outputs": [],
   "source": [
    "# Linking this notebook with google sheet\n",
    "scope = ['https://spreadsheets.google.com/feeds']\n",
    "credentials = ServiceAccountCredentials.from_json_keyfile_name('covid-19-jgs-f5e0a4db4c99.json', scope)\n",
    "gc = gspread.authorize(credentials)\n",
    "spreadsheet_key = '10cJhEec8cC4D0JlhpDXd3q0d_c8pm6aNffjv-IxptHs'"
   ]
  },
  {
   "cell_type": "code",
   "execution_count": 3,
   "metadata": {},
   "outputs": [],
   "source": [
    "# spreadsheet_key = '10cJhEec8cC4D0JlhpDXd3q0d_c8pm6aNffjv-IxptHs'\n",
    "# book = gc.open_by_key(spreadsheet_key)\n",
    "# worksheet = book.worksheet(\"Covid-19 Data\")\n",
    "# table = worksheet.get_all_values()"
   ]
  },
  {
   "cell_type": "markdown",
   "metadata": {},
   "source": [
    "### The following section consists of three different API links fom the same source https://covid19api.com/ and they are all preprocessed in this notebook, converted into dataframe tables then saved in our google sheet."
   ]
  },
  {
   "cell_type": "code",
   "execution_count": 4,
   "metadata": {},
   "outputs": [
    {
     "name": "stdout",
     "output_type": "stream",
     "text": [
      "200\n"
     ]
    }
   ],
   "source": [
    "# Loading the Covid-19 Summarised Data\n",
    "response = requests.get(\"https://api.covid19api.com/summary\")\n",
    "print(response.status_code)"
   ]
  },
  {
   "cell_type": "code",
   "execution_count": 5,
   "metadata": {},
   "outputs": [],
   "source": [
    "def jprint(obj):\n",
    "    # create a formatted string of the Python JSON object\n",
    "    text = json.dumps(obj, sort_keys = True, indent = 4, separators = (',', ': '))\n",
    "\n",
    "# type(response.json())"
   ]
  },
  {
   "cell_type": "code",
   "execution_count": 6,
   "metadata": {},
   "outputs": [
    {
     "name": "stdout",
     "output_type": "stream",
     "text": [
      "Global\n",
      "Countries\n",
      "Date\n"
     ]
    }
   ],
   "source": [
    "for i in response.json():\n",
    "    print(i)"
   ]
  },
  {
   "cell_type": "code",
   "execution_count": 7,
   "metadata": {},
   "outputs": [],
   "source": [
    "for i in response.json():\n",
    "    Countries = response.json()['Countries']\n",
    "#     print(Countries)"
   ]
  },
  {
   "cell_type": "code",
   "execution_count": 8,
   "metadata": {},
   "outputs": [
    {
     "data": {
      "text/html": [
       "<div>\n",
       "<style scoped>\n",
       "    .dataframe tbody tr th:only-of-type {\n",
       "        vertical-align: middle;\n",
       "    }\n",
       "\n",
       "    .dataframe tbody tr th {\n",
       "        vertical-align: top;\n",
       "    }\n",
       "\n",
       "    .dataframe thead th {\n",
       "        text-align: right;\n",
       "    }\n",
       "</style>\n",
       "<table border=\"1\" class=\"dataframe\">\n",
       "  <thead>\n",
       "    <tr style=\"text-align: right;\">\n",
       "      <th></th>\n",
       "      <th>Country</th>\n",
       "      <th>CountryCode</th>\n",
       "      <th>Slug</th>\n",
       "      <th>NewConfirmed</th>\n",
       "      <th>TotalConfirmed</th>\n",
       "      <th>NewDeaths</th>\n",
       "      <th>TotalDeaths</th>\n",
       "      <th>NewRecovered</th>\n",
       "      <th>TotalRecovered</th>\n",
       "      <th>Date</th>\n",
       "      <th>Premium</th>\n",
       "    </tr>\n",
       "  </thead>\n",
       "  <tbody>\n",
       "    <tr>\n",
       "      <th>0</th>\n",
       "      <td>Afghanistan</td>\n",
       "      <td>AF</td>\n",
       "      <td>afghanistan</td>\n",
       "      <td>76</td>\n",
       "      <td>35070</td>\n",
       "      <td>19</td>\n",
       "      <td>1113</td>\n",
       "      <td>368</td>\n",
       "      <td>22824</td>\n",
       "      <td>2020-07-17T06:24:28Z</td>\n",
       "      <td>{}</td>\n",
       "    </tr>\n",
       "    <tr>\n",
       "      <th>1</th>\n",
       "      <td>Albania</td>\n",
       "      <td>AL</td>\n",
       "      <td>albania</td>\n",
       "      <td>99</td>\n",
       "      <td>3851</td>\n",
       "      <td>3</td>\n",
       "      <td>104</td>\n",
       "      <td>46</td>\n",
       "      <td>2137</td>\n",
       "      <td>2020-07-17T06:24:28Z</td>\n",
       "      <td>{}</td>\n",
       "    </tr>\n",
       "    <tr>\n",
       "      <th>2</th>\n",
       "      <td>Algeria</td>\n",
       "      <td>DZ</td>\n",
       "      <td>algeria</td>\n",
       "      <td>585</td>\n",
       "      <td>21355</td>\n",
       "      <td>12</td>\n",
       "      <td>1052</td>\n",
       "      <td>315</td>\n",
       "      <td>15107</td>\n",
       "      <td>2020-07-17T06:24:28Z</td>\n",
       "      <td>{}</td>\n",
       "    </tr>\n",
       "    <tr>\n",
       "      <th>3</th>\n",
       "      <td>Andorra</td>\n",
       "      <td>AD</td>\n",
       "      <td>andorra</td>\n",
       "      <td>15</td>\n",
       "      <td>877</td>\n",
       "      <td>0</td>\n",
       "      <td>52</td>\n",
       "      <td>0</td>\n",
       "      <td>803</td>\n",
       "      <td>2020-07-17T06:24:28Z</td>\n",
       "      <td>{}</td>\n",
       "    </tr>\n",
       "    <tr>\n",
       "      <th>4</th>\n",
       "      <td>Angola</td>\n",
       "      <td>AO</td>\n",
       "      <td>angola</td>\n",
       "      <td>31</td>\n",
       "      <td>607</td>\n",
       "      <td>1</td>\n",
       "      <td>28</td>\n",
       "      <td>0</td>\n",
       "      <td>124</td>\n",
       "      <td>2020-07-17T06:24:28Z</td>\n",
       "      <td>{}</td>\n",
       "    </tr>\n",
       "  </tbody>\n",
       "</table>\n",
       "</div>"
      ],
      "text/plain": [
       "       Country CountryCode         Slug  NewConfirmed  TotalConfirmed  \\\n",
       "0  Afghanistan          AF  afghanistan            76           35070   \n",
       "1      Albania          AL      albania            99            3851   \n",
       "2      Algeria          DZ      algeria           585           21355   \n",
       "3      Andorra          AD      andorra            15             877   \n",
       "4       Angola          AO       angola            31             607   \n",
       "\n",
       "   NewDeaths  TotalDeaths  NewRecovered  TotalRecovered                  Date  \\\n",
       "0         19         1113           368           22824  2020-07-17T06:24:28Z   \n",
       "1          3          104            46            2137  2020-07-17T06:24:28Z   \n",
       "2         12         1052           315           15107  2020-07-17T06:24:28Z   \n",
       "3          0           52             0             803  2020-07-17T06:24:28Z   \n",
       "4          1           28             0             124  2020-07-17T06:24:28Z   \n",
       "\n",
       "  Premium  \n",
       "0      {}  \n",
       "1      {}  \n",
       "2      {}  \n",
       "3      {}  \n",
       "4      {}  "
      ]
     },
     "execution_count": 8,
     "metadata": {},
     "output_type": "execute_result"
    }
   ],
   "source": [
    "Country = pd.DataFrame(Countries)\n",
    "Country.head()"
   ]
  },
  {
   "cell_type": "code",
   "execution_count": 9,
   "metadata": {},
   "outputs": [
    {
     "data": {
      "text/plain": [
       "<Worksheet 'Covid-19 Summary' id:0>"
      ]
     },
     "execution_count": 9,
     "metadata": {},
     "output_type": "execute_result"
    }
   ],
   "source": [
    "# Set the sheet name you want to upload data to and the start cell where the upload data begins \n",
    "wks_name = 'Covid-19 Summary'\n",
    "\n",
    "# upload the dataframe of the clients we want to delete\n",
    "d2g.upload(Country, spreadsheet_key, wks_name, credentials = credentials, col_names = True, \n",
    "           row_names = True, clean = True)"
   ]
  },
  {
   "cell_type": "code",
   "execution_count": 10,
   "metadata": {},
   "outputs": [
    {
     "name": "stdout",
     "output_type": "stream",
     "text": [
      "200\n"
     ]
    }
   ],
   "source": [
    "# Loading the Covid-19 South African Confirmed Cases only Data\n",
    "response2 = requests.get(\"https://api.covid19api.com/total/dayone/country/south-africa/status/confirmed\")\n",
    "print(response2.status_code)"
   ]
  },
  {
   "cell_type": "code",
   "execution_count": 11,
   "metadata": {},
   "outputs": [
    {
     "data": {
      "text/plain": [
       "list"
      ]
     },
     "execution_count": 11,
     "metadata": {},
     "output_type": "execute_result"
    }
   ],
   "source": [
    "def jprint(obj):\n",
    "    # create a formatted string of the Python JSON object\n",
    "    text = json.dumps(obj, sort_keys = True, indent = 4, separators = (',', ': '))\n",
    "    \n",
    "type(response2.json())"
   ]
  },
  {
   "cell_type": "code",
   "execution_count": 12,
   "metadata": {},
   "outputs": [
    {
     "data": {
      "text/html": [
       "<div>\n",
       "<style scoped>\n",
       "    .dataframe tbody tr th:only-of-type {\n",
       "        vertical-align: middle;\n",
       "    }\n",
       "\n",
       "    .dataframe tbody tr th {\n",
       "        vertical-align: top;\n",
       "    }\n",
       "\n",
       "    .dataframe thead th {\n",
       "        text-align: right;\n",
       "    }\n",
       "</style>\n",
       "<table border=\"1\" class=\"dataframe\">\n",
       "  <thead>\n",
       "    <tr style=\"text-align: right;\">\n",
       "      <th></th>\n",
       "      <th>Country</th>\n",
       "      <th>CountryCode</th>\n",
       "      <th>Province</th>\n",
       "      <th>City</th>\n",
       "      <th>CityCode</th>\n",
       "      <th>Lat</th>\n",
       "      <th>Lon</th>\n",
       "      <th>Cases</th>\n",
       "      <th>Status</th>\n",
       "      <th>Date</th>\n",
       "    </tr>\n",
       "  </thead>\n",
       "  <tbody>\n",
       "    <tr>\n",
       "      <th>129</th>\n",
       "      <td>South Africa</td>\n",
       "      <td></td>\n",
       "      <td></td>\n",
       "      <td></td>\n",
       "      <td></td>\n",
       "      <td>0</td>\n",
       "      <td>0</td>\n",
       "      <td>276242</td>\n",
       "      <td>confirmed</td>\n",
       "      <td>2020-07-12T00:00:00Z</td>\n",
       "    </tr>\n",
       "    <tr>\n",
       "      <th>130</th>\n",
       "      <td>South Africa</td>\n",
       "      <td></td>\n",
       "      <td></td>\n",
       "      <td></td>\n",
       "      <td></td>\n",
       "      <td>0</td>\n",
       "      <td>0</td>\n",
       "      <td>287796</td>\n",
       "      <td>confirmed</td>\n",
       "      <td>2020-07-13T00:00:00Z</td>\n",
       "    </tr>\n",
       "    <tr>\n",
       "      <th>131</th>\n",
       "      <td>South Africa</td>\n",
       "      <td></td>\n",
       "      <td></td>\n",
       "      <td></td>\n",
       "      <td></td>\n",
       "      <td>0</td>\n",
       "      <td>0</td>\n",
       "      <td>298292</td>\n",
       "      <td>confirmed</td>\n",
       "      <td>2020-07-14T00:00:00Z</td>\n",
       "    </tr>\n",
       "    <tr>\n",
       "      <th>132</th>\n",
       "      <td>South Africa</td>\n",
       "      <td></td>\n",
       "      <td></td>\n",
       "      <td></td>\n",
       "      <td></td>\n",
       "      <td>0</td>\n",
       "      <td>0</td>\n",
       "      <td>311049</td>\n",
       "      <td>confirmed</td>\n",
       "      <td>2020-07-15T00:00:00Z</td>\n",
       "    </tr>\n",
       "    <tr>\n",
       "      <th>133</th>\n",
       "      <td>South Africa</td>\n",
       "      <td></td>\n",
       "      <td></td>\n",
       "      <td></td>\n",
       "      <td></td>\n",
       "      <td>0</td>\n",
       "      <td>0</td>\n",
       "      <td>324221</td>\n",
       "      <td>confirmed</td>\n",
       "      <td>2020-07-16T00:00:00Z</td>\n",
       "    </tr>\n",
       "  </tbody>\n",
       "</table>\n",
       "</div>"
      ],
      "text/plain": [
       "          Country CountryCode Province City CityCode Lat Lon   Cases  \\\n",
       "129  South Africa                                      0   0  276242   \n",
       "130  South Africa                                      0   0  287796   \n",
       "131  South Africa                                      0   0  298292   \n",
       "132  South Africa                                      0   0  311049   \n",
       "133  South Africa                                      0   0  324221   \n",
       "\n",
       "        Status                  Date  \n",
       "129  confirmed  2020-07-12T00:00:00Z  \n",
       "130  confirmed  2020-07-13T00:00:00Z  \n",
       "131  confirmed  2020-07-14T00:00:00Z  \n",
       "132  confirmed  2020-07-15T00:00:00Z  \n",
       "133  confirmed  2020-07-16T00:00:00Z  "
      ]
     },
     "execution_count": 12,
     "metadata": {},
     "output_type": "execute_result"
    }
   ],
   "source": [
    "SA_confirmed = pd.DataFrame(response2.json())\n",
    "SA_confirmed.tail()"
   ]
  },
  {
   "cell_type": "code",
   "execution_count": 13,
   "metadata": {},
   "outputs": [],
   "source": [
    "# SA_confirmed.drop(SA_confirmed.tail(1).index,inplace=True)\n",
    "# SA_confirmed.tail()"
   ]
  },
  {
   "cell_type": "code",
   "execution_count": 14,
   "metadata": {},
   "outputs": [
    {
     "data": {
      "text/plain": [
       "<Worksheet 'Covid-19: SA Data' id:1067330366>"
      ]
     },
     "execution_count": 14,
     "metadata": {},
     "output_type": "execute_result"
    }
   ],
   "source": [
    "# Set the sheet name you want to upload data to and the start cell where the upload data begins \n",
    "wks_name = 'Covid-19: SA Data'\n",
    "\n",
    "# upload the dataframe of the clients we want to delete\n",
    "d2g.upload(SA_confirmed, spreadsheet_key, wks_name, credentials = credentials, col_names = True, \n",
    "           row_names = True, clean = True)"
   ]
  },
  {
   "cell_type": "code",
   "execution_count": 15,
   "metadata": {},
   "outputs": [
    {
     "name": "stdout",
     "output_type": "stream",
     "text": [
      "200\n"
     ]
    }
   ],
   "source": [
    "# Loading the Covid-19 South African Summarised Data\n",
    "response3 = requests.get(\"https://api.covid19api.com/total/country/south-africa\")\n",
    "print(response2.status_code)"
   ]
  },
  {
   "cell_type": "code",
   "execution_count": 16,
   "metadata": {},
   "outputs": [],
   "source": [
    "def jprint(obj):\n",
    "    # create a formatted string of the Python JSON object\n",
    "    text = json.dumps(obj, sort_keys = True, indent = 4, separators = (',', ': '))\n",
    "    \n",
    "# type(response3.json())"
   ]
  },
  {
   "cell_type": "code",
   "execution_count": 17,
   "metadata": {},
   "outputs": [
    {
     "data": {
      "text/html": [
       "<div>\n",
       "<style scoped>\n",
       "    .dataframe tbody tr th:only-of-type {\n",
       "        vertical-align: middle;\n",
       "    }\n",
       "\n",
       "    .dataframe tbody tr th {\n",
       "        vertical-align: top;\n",
       "    }\n",
       "\n",
       "    .dataframe thead th {\n",
       "        text-align: right;\n",
       "    }\n",
       "</style>\n",
       "<table border=\"1\" class=\"dataframe\">\n",
       "  <thead>\n",
       "    <tr style=\"text-align: right;\">\n",
       "      <th></th>\n",
       "      <th>Country</th>\n",
       "      <th>CountryCode</th>\n",
       "      <th>Province</th>\n",
       "      <th>City</th>\n",
       "      <th>CityCode</th>\n",
       "      <th>Lat</th>\n",
       "      <th>Lon</th>\n",
       "      <th>Confirmed</th>\n",
       "      <th>Deaths</th>\n",
       "      <th>Recovered</th>\n",
       "      <th>Active</th>\n",
       "      <th>Date</th>\n",
       "    </tr>\n",
       "  </thead>\n",
       "  <tbody>\n",
       "    <tr>\n",
       "      <th>172</th>\n",
       "      <td>South Africa</td>\n",
       "      <td></td>\n",
       "      <td></td>\n",
       "      <td></td>\n",
       "      <td></td>\n",
       "      <td>0</td>\n",
       "      <td>0</td>\n",
       "      <td>276242</td>\n",
       "      <td>4079</td>\n",
       "      <td>134874</td>\n",
       "      <td>137289</td>\n",
       "      <td>2020-07-12T00:00:00Z</td>\n",
       "    </tr>\n",
       "    <tr>\n",
       "      <th>173</th>\n",
       "      <td>South Africa</td>\n",
       "      <td></td>\n",
       "      <td></td>\n",
       "      <td></td>\n",
       "      <td></td>\n",
       "      <td>0</td>\n",
       "      <td>0</td>\n",
       "      <td>287796</td>\n",
       "      <td>4172</td>\n",
       "      <td>138241</td>\n",
       "      <td>145383</td>\n",
       "      <td>2020-07-13T00:00:00Z</td>\n",
       "    </tr>\n",
       "    <tr>\n",
       "      <th>174</th>\n",
       "      <td>South Africa</td>\n",
       "      <td></td>\n",
       "      <td></td>\n",
       "      <td></td>\n",
       "      <td></td>\n",
       "      <td>0</td>\n",
       "      <td>0</td>\n",
       "      <td>298292</td>\n",
       "      <td>4346</td>\n",
       "      <td>146279</td>\n",
       "      <td>147667</td>\n",
       "      <td>2020-07-14T00:00:00Z</td>\n",
       "    </tr>\n",
       "    <tr>\n",
       "      <th>175</th>\n",
       "      <td>South Africa</td>\n",
       "      <td></td>\n",
       "      <td></td>\n",
       "      <td></td>\n",
       "      <td></td>\n",
       "      <td>0</td>\n",
       "      <td>0</td>\n",
       "      <td>311049</td>\n",
       "      <td>4453</td>\n",
       "      <td>160693</td>\n",
       "      <td>145903</td>\n",
       "      <td>2020-07-15T00:00:00Z</td>\n",
       "    </tr>\n",
       "    <tr>\n",
       "      <th>176</th>\n",
       "      <td>South Africa</td>\n",
       "      <td></td>\n",
       "      <td></td>\n",
       "      <td></td>\n",
       "      <td></td>\n",
       "      <td>0</td>\n",
       "      <td>0</td>\n",
       "      <td>324221</td>\n",
       "      <td>4669</td>\n",
       "      <td>165591</td>\n",
       "      <td>153961</td>\n",
       "      <td>2020-07-16T00:00:00Z</td>\n",
       "    </tr>\n",
       "  </tbody>\n",
       "</table>\n",
       "</div>"
      ],
      "text/plain": [
       "          Country CountryCode Province City CityCode Lat Lon  Confirmed  \\\n",
       "172  South Africa                                      0   0     276242   \n",
       "173  South Africa                                      0   0     287796   \n",
       "174  South Africa                                      0   0     298292   \n",
       "175  South Africa                                      0   0     311049   \n",
       "176  South Africa                                      0   0     324221   \n",
       "\n",
       "     Deaths  Recovered  Active                  Date  \n",
       "172    4079     134874  137289  2020-07-12T00:00:00Z  \n",
       "173    4172     138241  145383  2020-07-13T00:00:00Z  \n",
       "174    4346     146279  147667  2020-07-14T00:00:00Z  \n",
       "175    4453     160693  145903  2020-07-15T00:00:00Z  \n",
       "176    4669     165591  153961  2020-07-16T00:00:00Z  "
      ]
     },
     "execution_count": 17,
     "metadata": {},
     "output_type": "execute_result"
    }
   ],
   "source": [
    "SA_live = pd.DataFrame(response3.json())\n",
    "SA_live.tail()"
   ]
  },
  {
   "cell_type": "code",
   "execution_count": 18,
   "metadata": {},
   "outputs": [
    {
     "data": {
      "text/plain": [
       "<Worksheet 'Covid-19: SA Summary' id:1351985275>"
      ]
     },
     "execution_count": 18,
     "metadata": {},
     "output_type": "execute_result"
    }
   ],
   "source": [
    "# Set the sheet name you want to upload data to and the start cell where the upload data begins \n",
    "wks_name = 'Covid-19: SA Summary'\n",
    "\n",
    "# upload the dataframe of the clients we want to delete\n",
    "d2g.upload(SA_live, spreadsheet_key, wks_name, credentials = credentials, col_names = True, \n",
    "           row_names = True, clean = True)"
   ]
  },
  {
   "cell_type": "code",
   "execution_count": null,
   "metadata": {},
   "outputs": [],
   "source": []
  }
 ],
 "metadata": {
  "kernelspec": {
   "display_name": "Python 3",
   "language": "python",
   "name": "python3"
  },
  "language_info": {
   "codemirror_mode": {
    "name": "ipython",
    "version": 3
   },
   "file_extension": ".py",
   "mimetype": "text/x-python",
   "name": "python",
   "nbconvert_exporter": "python",
   "pygments_lexer": "ipython3",
   "version": "3.7.6"
  }
 },
 "nbformat": 4,
 "nbformat_minor": 4
}
