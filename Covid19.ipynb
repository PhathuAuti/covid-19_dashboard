{
 "cells": [
  {
   "cell_type": "markdown",
   "metadata": {},
   "source": [
    "## Covid-19 Data \n",
    "### API data to Jupyter Notebook to Google Sheets\n",
    "In this notebook, We connect this notebook with a google sheet, where every update made in the API will be updated in the google sheet whenever this notebook is processed. The running of this notebook will take place once daily, as the API source is also updated once a day.\n"
   ]
  },
  {
   "cell_type": "code",
   "execution_count": 1,
   "metadata": {
    "scrolled": true
   },
   "outputs": [],
   "source": [
    "# Loading all the libraries we need\n",
    "import requests\n",
    "import json\n",
    "import pandas as pd\n",
    "import gspread\n",
    "from oauth2client.service_account import ServiceAccountCredentials\n",
    "from df2gspread import df2gspread as d2g"
   ]
  },
  {
   "cell_type": "code",
   "execution_count": 2,
   "metadata": {},
   "outputs": [],
   "source": [
    "# Linking this notebook with google sheet\n",
    "scope = ['https://spreadsheets.google.com/feeds']\n",
    "credentials = ServiceAccountCredentials.from_json_keyfile_name('covid-19-jgs-f5e0a4db4c99.json', scope)\n",
    "gc = gspread.authorize(credentials)\n",
    "spreadsheet_key = '10cJhEec8cC4D0JlhpDXd3q0d_c8pm6aNffjv-IxptHs'"
   ]
  },
  {
   "cell_type": "code",
   "execution_count": 3,
   "metadata": {},
   "outputs": [],
   "source": [
    "# spreadsheet_key = '10cJhEec8cC4D0JlhpDXd3q0d_c8pm6aNffjv-IxptHs'\n",
    "# book = gc.open_by_key(spreadsheet_key)\n",
    "# worksheet = book.worksheet(\"Covid-19 Data\")\n",
    "# table = worksheet.get_all_values()"
   ]
  },
  {
   "cell_type": "markdown",
   "metadata": {},
   "source": [
    "### The following section consists of three different API links fom the same source https://covid19api.com/ and they are all preprocessed in this notebook, converted into dataframe tables then saved in our google sheet."
   ]
  },
  {
   "cell_type": "code",
   "execution_count": 4,
   "metadata": {},
   "outputs": [
    {
     "name": "stdout",
     "output_type": "stream",
     "text": [
      "200\n"
     ]
    }
   ],
   "source": [
    "# Loading the Covid-19 Summarised Data\n",
    "response = requests.get(\"https://api.covid19api.com/summary\")\n",
    "print(response.status_code)"
   ]
  },
  {
   "cell_type": "code",
   "execution_count": 5,
   "metadata": {},
   "outputs": [],
   "source": [
    "def jprint(obj):\n",
    "    # create a formatted string of the Python JSON object\n",
    "    text = json.dumps(obj, sort_keys = True, indent = 4, separators = (',', ': '))\n",
    "\n",
    "# type(response.json())"
   ]
  },
  {
   "cell_type": "code",
   "execution_count": 6,
   "metadata": {},
   "outputs": [
    {
     "name": "stdout",
     "output_type": "stream",
     "text": [
      "Message\n",
      "Global\n",
      "Countries\n",
      "Date\n"
     ]
    }
   ],
   "source": [
    "for i in response.json():\n",
    "    print(i)"
   ]
  },
  {
   "cell_type": "code",
   "execution_count": 7,
   "metadata": {},
   "outputs": [],
   "source": [
    "for i in response.json():\n",
    "    Countries = response.json()['Countries']\n",
    "#     print(Countries)"
   ]
  },
  {
   "cell_type": "code",
   "execution_count": 8,
   "metadata": {},
   "outputs": [
    {
     "data": {
      "text/html": [
       "<div>\n",
       "<style scoped>\n",
       "    .dataframe tbody tr th:only-of-type {\n",
       "        vertical-align: middle;\n",
       "    }\n",
       "\n",
       "    .dataframe tbody tr th {\n",
       "        vertical-align: top;\n",
       "    }\n",
       "\n",
       "    .dataframe thead th {\n",
       "        text-align: right;\n",
       "    }\n",
       "</style>\n",
       "<table border=\"1\" class=\"dataframe\">\n",
       "  <thead>\n",
       "    <tr style=\"text-align: right;\">\n",
       "      <th></th>\n",
       "      <th>Country</th>\n",
       "      <th>CountryCode</th>\n",
       "      <th>Slug</th>\n",
       "      <th>NewConfirmed</th>\n",
       "      <th>TotalConfirmed</th>\n",
       "      <th>NewDeaths</th>\n",
       "      <th>TotalDeaths</th>\n",
       "      <th>NewRecovered</th>\n",
       "      <th>TotalRecovered</th>\n",
       "      <th>Date</th>\n",
       "      <th>Premium</th>\n",
       "    </tr>\n",
       "  </thead>\n",
       "  <tbody>\n",
       "    <tr>\n",
       "      <th>0</th>\n",
       "      <td>Afghanistan</td>\n",
       "      <td>AF</td>\n",
       "      <td>afghanistan</td>\n",
       "      <td>75</td>\n",
       "      <td>38716</td>\n",
       "      <td>0</td>\n",
       "      <td>1420</td>\n",
       "      <td>404</td>\n",
       "      <td>31638</td>\n",
       "      <td>2020-09-14T08:17:14Z</td>\n",
       "      <td>{}</td>\n",
       "    </tr>\n",
       "    <tr>\n",
       "      <th>1</th>\n",
       "      <td>Albania</td>\n",
       "      <td>AL</td>\n",
       "      <td>albania</td>\n",
       "      <td>168</td>\n",
       "      <td>11353</td>\n",
       "      <td>4</td>\n",
       "      <td>334</td>\n",
       "      <td>75</td>\n",
       "      <td>6569</td>\n",
       "      <td>2020-09-14T08:17:14Z</td>\n",
       "      <td>{}</td>\n",
       "    </tr>\n",
       "    <tr>\n",
       "      <th>2</th>\n",
       "      <td>Algeria</td>\n",
       "      <td>DZ</td>\n",
       "      <td>algeria</td>\n",
       "      <td>247</td>\n",
       "      <td>48254</td>\n",
       "      <td>7</td>\n",
       "      <td>1612</td>\n",
       "      <td>162</td>\n",
       "      <td>34037</td>\n",
       "      <td>2020-09-14T08:17:14Z</td>\n",
       "      <td>{}</td>\n",
       "    </tr>\n",
       "    <tr>\n",
       "      <th>3</th>\n",
       "      <td>Andorra</td>\n",
       "      <td>AD</td>\n",
       "      <td>andorra</td>\n",
       "      <td>0</td>\n",
       "      <td>1344</td>\n",
       "      <td>0</td>\n",
       "      <td>53</td>\n",
       "      <td>0</td>\n",
       "      <td>943</td>\n",
       "      <td>2020-09-14T08:17:14Z</td>\n",
       "      <td>{}</td>\n",
       "    </tr>\n",
       "    <tr>\n",
       "      <th>4</th>\n",
       "      <td>Angola</td>\n",
       "      <td>AO</td>\n",
       "      <td>angola</td>\n",
       "      <td>53</td>\n",
       "      <td>3388</td>\n",
       "      <td>2</td>\n",
       "      <td>134</td>\n",
       "      <td>12</td>\n",
       "      <td>1301</td>\n",
       "      <td>2020-09-14T08:17:14Z</td>\n",
       "      <td>{}</td>\n",
       "    </tr>\n",
       "  </tbody>\n",
       "</table>\n",
       "</div>"
      ],
      "text/plain": [
       "       Country CountryCode         Slug  NewConfirmed  TotalConfirmed  \\\n",
       "0  Afghanistan          AF  afghanistan            75           38716   \n",
       "1      Albania          AL      albania           168           11353   \n",
       "2      Algeria          DZ      algeria           247           48254   \n",
       "3      Andorra          AD      andorra             0            1344   \n",
       "4       Angola          AO       angola            53            3388   \n",
       "\n",
       "   NewDeaths  TotalDeaths  NewRecovered  TotalRecovered                  Date  \\\n",
       "0          0         1420           404           31638  2020-09-14T08:17:14Z   \n",
       "1          4          334            75            6569  2020-09-14T08:17:14Z   \n",
       "2          7         1612           162           34037  2020-09-14T08:17:14Z   \n",
       "3          0           53             0             943  2020-09-14T08:17:14Z   \n",
       "4          2          134            12            1301  2020-09-14T08:17:14Z   \n",
       "\n",
       "  Premium  \n",
       "0      {}  \n",
       "1      {}  \n",
       "2      {}  \n",
       "3      {}  \n",
       "4      {}  "
      ]
     },
     "execution_count": 8,
     "metadata": {},
     "output_type": "execute_result"
    }
   ],
   "source": [
    "Country = pd.DataFrame(Countries)\n",
    "Country.head()"
   ]
  },
  {
   "cell_type": "code",
   "execution_count": 9,
   "metadata": {},
   "outputs": [
    {
     "data": {
      "text/plain": [
       "<Worksheet 'Covid-19 Summary' id:0>"
      ]
     },
     "execution_count": 9,
     "metadata": {},
     "output_type": "execute_result"
    }
   ],
   "source": [
    "# Set the sheet name you want to upload data to and the start cell where the upload data begins \n",
    "wks_name = 'Covid-19 Summary'\n",
    "\n",
    "# upload the dataframe of the clients we want to delete\n",
    "d2g.upload(Country, spreadsheet_key, wks_name, credentials = credentials, col_names = True, \n",
    "           row_names = True, clean = True)"
   ]
  },
  {
   "cell_type": "code",
   "execution_count": 10,
   "metadata": {},
   "outputs": [
    {
     "name": "stdout",
     "output_type": "stream",
     "text": [
      "200\n"
     ]
    }
   ],
   "source": [
    "# Loading the Covid-19 South African Confirmed Cases only Data\n",
    "response2 = requests.get(\"https://api.covid19api.com/total/dayone/country/south-africa/status/confirmed\")\n",
    "print(response2.status_code)"
   ]
  },
  {
   "cell_type": "code",
   "execution_count": 11,
   "metadata": {},
   "outputs": [
    {
     "data": {
      "text/plain": [
       "list"
      ]
     },
     "execution_count": 11,
     "metadata": {},
     "output_type": "execute_result"
    }
   ],
   "source": [
    "def jprint(obj):\n",
    "    # create a formatted string of the Python JSON object\n",
    "    text = json.dumps(obj, sort_keys = True, indent = 4, separators = (',', ': '))\n",
    "    \n",
    "type(response2.json())"
   ]
  },
  {
   "cell_type": "code",
   "execution_count": 12,
   "metadata": {},
   "outputs": [
    {
     "data": {
      "text/html": [
       "<div>\n",
       "<style scoped>\n",
       "    .dataframe tbody tr th:only-of-type {\n",
       "        vertical-align: middle;\n",
       "    }\n",
       "\n",
       "    .dataframe tbody tr th {\n",
       "        vertical-align: top;\n",
       "    }\n",
       "\n",
       "    .dataframe thead th {\n",
       "        text-align: right;\n",
       "    }\n",
       "</style>\n",
       "<table border=\"1\" class=\"dataframe\">\n",
       "  <thead>\n",
       "    <tr style=\"text-align: right;\">\n",
       "      <th></th>\n",
       "      <th>Country</th>\n",
       "      <th>CountryCode</th>\n",
       "      <th>Province</th>\n",
       "      <th>City</th>\n",
       "      <th>CityCode</th>\n",
       "      <th>Lat</th>\n",
       "      <th>Lon</th>\n",
       "      <th>Cases</th>\n",
       "      <th>Status</th>\n",
       "      <th>Date</th>\n",
       "    </tr>\n",
       "  </thead>\n",
       "  <tbody>\n",
       "    <tr>\n",
       "      <th>188</th>\n",
       "      <td>South Africa</td>\n",
       "      <td></td>\n",
       "      <td></td>\n",
       "      <td></td>\n",
       "      <td></td>\n",
       "      <td>0</td>\n",
       "      <td>0</td>\n",
       "      <td>642431</td>\n",
       "      <td>confirmed</td>\n",
       "      <td>2020-09-09T00:00:00Z</td>\n",
       "    </tr>\n",
       "    <tr>\n",
       "      <th>189</th>\n",
       "      <td>South Africa</td>\n",
       "      <td></td>\n",
       "      <td></td>\n",
       "      <td></td>\n",
       "      <td></td>\n",
       "      <td>0</td>\n",
       "      <td>0</td>\n",
       "      <td>644438</td>\n",
       "      <td>confirmed</td>\n",
       "      <td>2020-09-10T00:00:00Z</td>\n",
       "    </tr>\n",
       "    <tr>\n",
       "      <th>190</th>\n",
       "      <td>South Africa</td>\n",
       "      <td></td>\n",
       "      <td></td>\n",
       "      <td></td>\n",
       "      <td></td>\n",
       "      <td>0</td>\n",
       "      <td>0</td>\n",
       "      <td>646398</td>\n",
       "      <td>confirmed</td>\n",
       "      <td>2020-09-11T00:00:00Z</td>\n",
       "    </tr>\n",
       "    <tr>\n",
       "      <th>191</th>\n",
       "      <td>South Africa</td>\n",
       "      <td></td>\n",
       "      <td></td>\n",
       "      <td></td>\n",
       "      <td></td>\n",
       "      <td>0</td>\n",
       "      <td>0</td>\n",
       "      <td>648214</td>\n",
       "      <td>confirmed</td>\n",
       "      <td>2020-09-12T00:00:00Z</td>\n",
       "    </tr>\n",
       "    <tr>\n",
       "      <th>192</th>\n",
       "      <td>South Africa</td>\n",
       "      <td></td>\n",
       "      <td></td>\n",
       "      <td></td>\n",
       "      <td></td>\n",
       "      <td>0</td>\n",
       "      <td>0</td>\n",
       "      <td>649793</td>\n",
       "      <td>confirmed</td>\n",
       "      <td>2020-09-13T00:00:00Z</td>\n",
       "    </tr>\n",
       "  </tbody>\n",
       "</table>\n",
       "</div>"
      ],
      "text/plain": [
       "          Country CountryCode Province City CityCode Lat Lon   Cases  \\\n",
       "188  South Africa                                      0   0  642431   \n",
       "189  South Africa                                      0   0  644438   \n",
       "190  South Africa                                      0   0  646398   \n",
       "191  South Africa                                      0   0  648214   \n",
       "192  South Africa                                      0   0  649793   \n",
       "\n",
       "        Status                  Date  \n",
       "188  confirmed  2020-09-09T00:00:00Z  \n",
       "189  confirmed  2020-09-10T00:00:00Z  \n",
       "190  confirmed  2020-09-11T00:00:00Z  \n",
       "191  confirmed  2020-09-12T00:00:00Z  \n",
       "192  confirmed  2020-09-13T00:00:00Z  "
      ]
     },
     "execution_count": 12,
     "metadata": {},
     "output_type": "execute_result"
    }
   ],
   "source": [
    "SA_confirmed = pd.DataFrame(response2.json())\n",
    "SA_confirmed.tail()"
   ]
  },
  {
   "cell_type": "code",
   "execution_count": 13,
   "metadata": {},
   "outputs": [],
   "source": [
    "# SA_confirmed.drop(SA_confirmed.tail(1).index,inplace=True)\n",
    "# SA_confirmed.tail()"
   ]
  },
  {
   "cell_type": "code",
   "execution_count": 14,
   "metadata": {},
   "outputs": [
    {
     "data": {
      "text/plain": [
       "<Worksheet 'Covid-19: SA Data' id:1067330366>"
      ]
     },
     "execution_count": 14,
     "metadata": {},
     "output_type": "execute_result"
    }
   ],
   "source": [
    "# Set the sheet name you want to upload data to and the start cell where the upload data begins \n",
    "wks_name = 'Covid-19: SA Data'\n",
    "\n",
    "# upload the dataframe of the clients we want to delete\n",
    "d2g.upload(SA_confirmed, spreadsheet_key, wks_name, credentials = credentials, col_names = True, \n",
    "           row_names = True, clean = True)"
   ]
  },
  {
   "cell_type": "code",
   "execution_count": 15,
   "metadata": {},
   "outputs": [
    {
     "name": "stdout",
     "output_type": "stream",
     "text": [
      "200\n"
     ]
    }
   ],
   "source": [
    "# Loading the Covid-19 South African Summarised Data\n",
    "response3 = requests.get(\"https://api.covid19api.com/total/country/south-africa\")\n",
    "print(response2.status_code)"
   ]
  },
  {
   "cell_type": "code",
   "execution_count": 16,
   "metadata": {},
   "outputs": [],
   "source": [
    "def jprint(obj):\n",
    "    # create a formatted string of the Python JSON object\n",
    "    text = json.dumps(obj, sort_keys = True, indent = 4, separators = (',', ': '))\n",
    "    \n",
    "# type(response3.json())"
   ]
  },
  {
   "cell_type": "code",
   "execution_count": 17,
   "metadata": {},
   "outputs": [
    {
     "data": {
      "text/html": [
       "<div>\n",
       "<style scoped>\n",
       "    .dataframe tbody tr th:only-of-type {\n",
       "        vertical-align: middle;\n",
       "    }\n",
       "\n",
       "    .dataframe tbody tr th {\n",
       "        vertical-align: top;\n",
       "    }\n",
       "\n",
       "    .dataframe thead th {\n",
       "        text-align: right;\n",
       "    }\n",
       "</style>\n",
       "<table border=\"1\" class=\"dataframe\">\n",
       "  <thead>\n",
       "    <tr style=\"text-align: right;\">\n",
       "      <th></th>\n",
       "      <th>Country</th>\n",
       "      <th>CountryCode</th>\n",
       "      <th>Province</th>\n",
       "      <th>City</th>\n",
       "      <th>CityCode</th>\n",
       "      <th>Lat</th>\n",
       "      <th>Lon</th>\n",
       "      <th>Confirmed</th>\n",
       "      <th>Deaths</th>\n",
       "      <th>Recovered</th>\n",
       "      <th>Active</th>\n",
       "      <th>Date</th>\n",
       "    </tr>\n",
       "  </thead>\n",
       "  <tbody>\n",
       "    <tr>\n",
       "      <th>231</th>\n",
       "      <td>South Africa</td>\n",
       "      <td></td>\n",
       "      <td></td>\n",
       "      <td></td>\n",
       "      <td></td>\n",
       "      <td>0</td>\n",
       "      <td>0</td>\n",
       "      <td>642431</td>\n",
       "      <td>15168</td>\n",
       "      <td>569935</td>\n",
       "      <td>57328</td>\n",
       "      <td>2020-09-09T00:00:00Z</td>\n",
       "    </tr>\n",
       "    <tr>\n",
       "      <th>232</th>\n",
       "      <td>South Africa</td>\n",
       "      <td></td>\n",
       "      <td></td>\n",
       "      <td></td>\n",
       "      <td></td>\n",
       "      <td>0</td>\n",
       "      <td>0</td>\n",
       "      <td>644438</td>\n",
       "      <td>15265</td>\n",
       "      <td>573003</td>\n",
       "      <td>56170</td>\n",
       "      <td>2020-09-10T00:00:00Z</td>\n",
       "    </tr>\n",
       "    <tr>\n",
       "      <th>233</th>\n",
       "      <td>South Africa</td>\n",
       "      <td></td>\n",
       "      <td></td>\n",
       "      <td></td>\n",
       "      <td></td>\n",
       "      <td>0</td>\n",
       "      <td>0</td>\n",
       "      <td>646398</td>\n",
       "      <td>15378</td>\n",
       "      <td>574587</td>\n",
       "      <td>56433</td>\n",
       "      <td>2020-09-11T00:00:00Z</td>\n",
       "    </tr>\n",
       "    <tr>\n",
       "      <th>234</th>\n",
       "      <td>South Africa</td>\n",
       "      <td></td>\n",
       "      <td></td>\n",
       "      <td></td>\n",
       "      <td></td>\n",
       "      <td>0</td>\n",
       "      <td>0</td>\n",
       "      <td>648214</td>\n",
       "      <td>15427</td>\n",
       "      <td>576423</td>\n",
       "      <td>56364</td>\n",
       "      <td>2020-09-12T00:00:00Z</td>\n",
       "    </tr>\n",
       "    <tr>\n",
       "      <th>235</th>\n",
       "      <td>South Africa</td>\n",
       "      <td></td>\n",
       "      <td></td>\n",
       "      <td></td>\n",
       "      <td></td>\n",
       "      <td>0</td>\n",
       "      <td>0</td>\n",
       "      <td>649793</td>\n",
       "      <td>15447</td>\n",
       "      <td>577906</td>\n",
       "      <td>56440</td>\n",
       "      <td>2020-09-13T00:00:00Z</td>\n",
       "    </tr>\n",
       "  </tbody>\n",
       "</table>\n",
       "</div>"
      ],
      "text/plain": [
       "          Country CountryCode Province City CityCode Lat Lon  Confirmed  \\\n",
       "231  South Africa                                      0   0     642431   \n",
       "232  South Africa                                      0   0     644438   \n",
       "233  South Africa                                      0   0     646398   \n",
       "234  South Africa                                      0   0     648214   \n",
       "235  South Africa                                      0   0     649793   \n",
       "\n",
       "     Deaths  Recovered  Active                  Date  \n",
       "231   15168     569935   57328  2020-09-09T00:00:00Z  \n",
       "232   15265     573003   56170  2020-09-10T00:00:00Z  \n",
       "233   15378     574587   56433  2020-09-11T00:00:00Z  \n",
       "234   15427     576423   56364  2020-09-12T00:00:00Z  \n",
       "235   15447     577906   56440  2020-09-13T00:00:00Z  "
      ]
     },
     "execution_count": 17,
     "metadata": {},
     "output_type": "execute_result"
    }
   ],
   "source": [
    "SA_live = pd.DataFrame(response3.json())\n",
    "SA_live.tail()"
   ]
  },
  {
   "cell_type": "code",
   "execution_count": 18,
   "metadata": {},
   "outputs": [
    {
     "data": {
      "text/plain": [
       "<Worksheet 'Covid-19: SA Summary' id:1351985275>"
      ]
     },
     "execution_count": 18,
     "metadata": {},
     "output_type": "execute_result"
    }
   ],
   "source": [
    "# Set the sheet name you want to upload data to and the start cell where the upload data begins \n",
    "wks_name = 'Covid-19: SA Summary'\n",
    "\n",
    "# upload the dataframe of the clients we want to delete\n",
    "d2g.upload(SA_live, spreadsheet_key, wks_name, credentials = credentials, col_names = True, \n",
    "           row_names = True, clean = True)"
   ]
  },
  {
   "cell_type": "code",
   "execution_count": null,
   "metadata": {},
   "outputs": [],
   "source": []
  }
 ],
 "metadata": {
  "kernelspec": {
   "display_name": "Python 3",
   "language": "python",
   "name": "python3"
  },
  "language_info": {
   "codemirror_mode": {
    "name": "ipython",
    "version": 3
   },
   "file_extension": ".py",
   "mimetype": "text/x-python",
   "name": "python",
   "nbconvert_exporter": "python",
   "pygments_lexer": "ipython3",
   "version": "3.7.6"
  }
 },
 "nbformat": 4,
 "nbformat_minor": 4
}
