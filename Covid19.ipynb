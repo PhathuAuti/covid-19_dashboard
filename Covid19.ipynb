{
 "cells": [
  {
   "cell_type": "markdown",
   "metadata": {},
   "source": [
    "### Hey Beautiful People\n",
    "#### So below are 7 datasets, which I managed to transform into readable tables. I also decided to add the info of each data to give an idea of total entries and columns for each dataset. These are the datasets chosen by the Google Data Studio Team, that we will be using to build our dashboard.\n",
    "#### The purpose of these is for us to be able to build up a questionnaire, for our users, and be able to create user stories and journies.\n",
    "I hope these are clear."
   ]
  },
  {
   "cell_type": "code",
   "execution_count": 1,
   "metadata": {},
   "outputs": [],
   "source": [
    "import requests\n",
    "import json\n",
    "import pandas as pd"
   ]
  },
  {
   "cell_type": "code",
   "execution_count": 2,
   "metadata": {},
   "outputs": [],
   "source": [
    "response1 = requests.get(\"https://covidvisual.com/api/Cases/getall\")\n",
    "response2 = requests.get(\"https://covidvisual.com/api/Cases/getallperday\")\n",
    "response3 = requests.get(\"https://covidvisual.com/api/Cases/getdayaggregate\")\n",
    "response4 = requests.get(\"https://covidvisual.com/api/Deaths/getall\")\n",
    "response5 = requests.get(\"https://covidvisual.com/api/Hospitals/public/getall\")\n",
    "response6 = requests.get(\"https://covidvisual.com/api/Hospitals/private/getall\")\n",
    "response7 = requests.get(\"https://covidvisual.com/api/Tests/getall\")"
   ]
  },
  {
   "cell_type": "code",
   "execution_count": 3,
   "metadata": {},
   "outputs": [
    {
     "name": "stdout",
     "output_type": "stream",
     "text": [
      "200\n",
      "200\n",
      "200\n",
      "200\n",
      "200\n",
      "200\n",
      "200\n"
     ]
    }
   ],
   "source": [
    "print(response1.status_code)\n",
    "print(response2.status_code)\n",
    "print(response3.status_code)\n",
    "print(response4.status_code)\n",
    "print(response5.status_code)\n",
    "print(response6.status_code)\n",
    "print(response7.status_code)"
   ]
  },
  {
   "cell_type": "code",
   "execution_count": 4,
   "metadata": {},
   "outputs": [
    {
     "data": {
      "text/html": [
       "<div>\n",
       "<style scoped>\n",
       "    .dataframe tbody tr th:only-of-type {\n",
       "        vertical-align: middle;\n",
       "    }\n",
       "\n",
       "    .dataframe tbody tr th {\n",
       "        vertical-align: top;\n",
       "    }\n",
       "\n",
       "    .dataframe thead th {\n",
       "        text-align: right;\n",
       "    }\n",
       "</style>\n",
       "<table border=\"1\" class=\"dataframe\">\n",
       "  <thead>\n",
       "    <tr style=\"text-align: right;\">\n",
       "      <th></th>\n",
       "      <th>caseId</th>\n",
       "      <th>date</th>\n",
       "      <th>datePlain</th>\n",
       "      <th>country</th>\n",
       "      <th>province</th>\n",
       "      <th>geoSubdivisions</th>\n",
       "      <th>age</th>\n",
       "      <th>gender</th>\n",
       "      <th>transmissionType</th>\n",
       "    </tr>\n",
       "  </thead>\n",
       "  <tbody>\n",
       "    <tr>\n",
       "      <th>0</th>\n",
       "      <td>1</td>\n",
       "      <td>2020-03-05T00:00:00</td>\n",
       "      <td>20200305</td>\n",
       "      <td>South Africa</td>\n",
       "      <td>KZN</td>\n",
       "      <td>ZA-KZN</td>\n",
       "      <td>38</td>\n",
       "      <td>male</td>\n",
       "      <td>Travelled to Italy</td>\n",
       "    </tr>\n",
       "    <tr>\n",
       "      <th>1</th>\n",
       "      <td>2</td>\n",
       "      <td>2020-03-07T00:00:00</td>\n",
       "      <td>20200307</td>\n",
       "      <td>South Africa</td>\n",
       "      <td>GP</td>\n",
       "      <td>ZA-GP</td>\n",
       "      <td>39</td>\n",
       "      <td>female</td>\n",
       "      <td>Travelled to Italy</td>\n",
       "    </tr>\n",
       "    <tr>\n",
       "      <th>2</th>\n",
       "      <td>3</td>\n",
       "      <td>2020-03-08T00:00:00</td>\n",
       "      <td>20200308</td>\n",
       "      <td>South Africa</td>\n",
       "      <td>KZN</td>\n",
       "      <td>ZA-KZN</td>\n",
       "      <td>38</td>\n",
       "      <td>female</td>\n",
       "      <td>Travelled to Italy</td>\n",
       "    </tr>\n",
       "    <tr>\n",
       "      <th>3</th>\n",
       "      <td>4</td>\n",
       "      <td>2020-03-09T00:00:00</td>\n",
       "      <td>20200309</td>\n",
       "      <td>South Africa</td>\n",
       "      <td>KZN</td>\n",
       "      <td>ZA-KZN</td>\n",
       "      <td>38</td>\n",
       "      <td>male</td>\n",
       "      <td>Travelled to Italy</td>\n",
       "    </tr>\n",
       "    <tr>\n",
       "      <th>4</th>\n",
       "      <td>5</td>\n",
       "      <td>2020-03-09T00:00:00</td>\n",
       "      <td>20200309</td>\n",
       "      <td>South Africa</td>\n",
       "      <td>KZN</td>\n",
       "      <td>ZA-KZN</td>\n",
       "      <td>38</td>\n",
       "      <td>female</td>\n",
       "      <td>Travelled to Italy</td>\n",
       "    </tr>\n",
       "  </tbody>\n",
       "</table>\n",
       "</div>"
      ],
      "text/plain": [
       "   caseId                 date datePlain       country province  \\\n",
       "0       1  2020-03-05T00:00:00  20200305  South Africa      KZN   \n",
       "1       2  2020-03-07T00:00:00  20200307  South Africa       GP   \n",
       "2       3  2020-03-08T00:00:00  20200308  South Africa      KZN   \n",
       "3       4  2020-03-09T00:00:00  20200309  South Africa      KZN   \n",
       "4       5  2020-03-09T00:00:00  20200309  South Africa      KZN   \n",
       "\n",
       "  geoSubdivisions  age  gender    transmissionType  \n",
       "0          ZA-KZN   38    male  Travelled to Italy  \n",
       "1           ZA-GP   39  female  Travelled to Italy  \n",
       "2          ZA-KZN   38  female  Travelled to Italy  \n",
       "3          ZA-KZN   38    male  Travelled to Italy  \n",
       "4          ZA-KZN   38  female  Travelled to Italy  "
      ]
     },
     "execution_count": 4,
     "metadata": {},
     "output_type": "execute_result"
    }
   ],
   "source": [
    "covid_19_All_Cases = pd.DataFrame(response1.json())\n",
    "covid_19_All_Cases.head()"
   ]
  },
  {
   "cell_type": "code",
   "execution_count": 5,
   "metadata": {},
   "outputs": [
    {
     "name": "stdout",
     "output_type": "stream",
     "text": [
      "<class 'pandas.core.frame.DataFrame'>\n",
      "RangeIndex: 709 entries, 0 to 708\n",
      "Data columns (total 9 columns):\n",
      " #   Column            Non-Null Count  Dtype \n",
      "---  ------            --------------  ----- \n",
      " 0   caseId            709 non-null    int64 \n",
      " 1   date              709 non-null    object\n",
      " 2   datePlain         709 non-null    object\n",
      " 3   country           709 non-null    object\n",
      " 4   province          709 non-null    object\n",
      " 5   geoSubdivisions   709 non-null    object\n",
      " 6   age               709 non-null    int64 \n",
      " 7   gender            709 non-null    object\n",
      " 8   transmissionType  709 non-null    object\n",
      "dtypes: int64(2), object(7)\n",
      "memory usage: 50.0+ KB\n"
     ]
    }
   ],
   "source": [
    "covid_19_All_Cases.info()"
   ]
  },
  {
   "cell_type": "code",
   "execution_count": 6,
   "metadata": {},
   "outputs": [
    {
     "data": {
      "text/html": [
       "<div>\n",
       "<style scoped>\n",
       "    .dataframe tbody tr th:only-of-type {\n",
       "        vertical-align: middle;\n",
       "    }\n",
       "\n",
       "    .dataframe tbody tr th {\n",
       "        vertical-align: top;\n",
       "    }\n",
       "\n",
       "    .dataframe thead th {\n",
       "        text-align: right;\n",
       "    }\n",
       "</style>\n",
       "<table border=\"1\" class=\"dataframe\">\n",
       "  <thead>\n",
       "    <tr style=\"text-align: right;\">\n",
       "      <th></th>\n",
       "      <th>casesTotal</th>\n",
       "      <th>date</th>\n",
       "    </tr>\n",
       "  </thead>\n",
       "  <tbody>\n",
       "    <tr>\n",
       "      <th>0</th>\n",
       "      <td>1.0</td>\n",
       "      <td>2020-03-05T00:00:00</td>\n",
       "    </tr>\n",
       "    <tr>\n",
       "      <th>1</th>\n",
       "      <td>1.0</td>\n",
       "      <td>2020-03-07T00:00:00</td>\n",
       "    </tr>\n",
       "    <tr>\n",
       "      <th>2</th>\n",
       "      <td>1.0</td>\n",
       "      <td>2020-03-08T00:00:00</td>\n",
       "    </tr>\n",
       "    <tr>\n",
       "      <th>3</th>\n",
       "      <td>4.0</td>\n",
       "      <td>2020-03-09T00:00:00</td>\n",
       "    </tr>\n",
       "    <tr>\n",
       "      <th>4</th>\n",
       "      <td>6.0</td>\n",
       "      <td>2020-03-11T00:00:00</td>\n",
       "    </tr>\n",
       "  </tbody>\n",
       "</table>\n",
       "</div>"
      ],
      "text/plain": [
       "   casesTotal                 date\n",
       "0         1.0  2020-03-05T00:00:00\n",
       "1         1.0  2020-03-07T00:00:00\n",
       "2         1.0  2020-03-08T00:00:00\n",
       "3         4.0  2020-03-09T00:00:00\n",
       "4         6.0  2020-03-11T00:00:00"
      ]
     },
     "execution_count": 6,
     "metadata": {},
     "output_type": "execute_result"
    }
   ],
   "source": [
    "covid_19_Per_Day = pd.DataFrame(response2.json())\n",
    "covid_19_Per_Day.head()"
   ]
  },
  {
   "cell_type": "code",
   "execution_count": 7,
   "metadata": {},
   "outputs": [
    {
     "name": "stdout",
     "output_type": "stream",
     "text": [
      "<class 'pandas.core.frame.DataFrame'>\n",
      "RangeIndex: 19 entries, 0 to 18\n",
      "Data columns (total 2 columns):\n",
      " #   Column      Non-Null Count  Dtype  \n",
      "---  ------      --------------  -----  \n",
      " 0   casesTotal  19 non-null     float64\n",
      " 1   date        19 non-null     object \n",
      "dtypes: float64(1), object(1)\n",
      "memory usage: 432.0+ bytes\n"
     ]
    }
   ],
   "source": [
    "covid_19_Per_Day.info()"
   ]
  },
  {
   "cell_type": "code",
   "execution_count": 8,
   "metadata": {},
   "outputs": [
    {
     "data": {
      "text/html": [
       "<div>\n",
       "<style scoped>\n",
       "    .dataframe tbody tr th:only-of-type {\n",
       "        vertical-align: middle;\n",
       "    }\n",
       "\n",
       "    .dataframe tbody tr th {\n",
       "        vertical-align: top;\n",
       "    }\n",
       "\n",
       "    .dataframe thead th {\n",
       "        text-align: right;\n",
       "    }\n",
       "</style>\n",
       "<table border=\"1\" class=\"dataframe\">\n",
       "  <thead>\n",
       "    <tr style=\"text-align: right;\">\n",
       "      <th></th>\n",
       "      <th>casesTotal</th>\n",
       "      <th>date</th>\n",
       "    </tr>\n",
       "  </thead>\n",
       "  <tbody>\n",
       "    <tr>\n",
       "      <th>0</th>\n",
       "      <td>1.0</td>\n",
       "      <td>2020-03-05T00:00:00</td>\n",
       "    </tr>\n",
       "    <tr>\n",
       "      <th>1</th>\n",
       "      <td>2.0</td>\n",
       "      <td>2020-03-07T00:00:00</td>\n",
       "    </tr>\n",
       "    <tr>\n",
       "      <th>2</th>\n",
       "      <td>3.0</td>\n",
       "      <td>2020-03-08T00:00:00</td>\n",
       "    </tr>\n",
       "    <tr>\n",
       "      <th>3</th>\n",
       "      <td>7.0</td>\n",
       "      <td>2020-03-09T00:00:00</td>\n",
       "    </tr>\n",
       "    <tr>\n",
       "      <th>4</th>\n",
       "      <td>13.0</td>\n",
       "      <td>2020-03-11T00:00:00</td>\n",
       "    </tr>\n",
       "  </tbody>\n",
       "</table>\n",
       "</div>"
      ],
      "text/plain": [
       "   casesTotal                 date\n",
       "0         1.0  2020-03-05T00:00:00\n",
       "1         2.0  2020-03-07T00:00:00\n",
       "2         3.0  2020-03-08T00:00:00\n",
       "3         7.0  2020-03-09T00:00:00\n",
       "4        13.0  2020-03-11T00:00:00"
      ]
     },
     "execution_count": 8,
     "metadata": {},
     "output_type": "execute_result"
    }
   ],
   "source": [
    "covid_19_Aggregate = pd.DataFrame(response3.json())\n",
    "covid_19_Aggregate.head()"
   ]
  },
  {
   "cell_type": "code",
   "execution_count": 9,
   "metadata": {},
   "outputs": [
    {
     "name": "stdout",
     "output_type": "stream",
     "text": [
      "<class 'pandas.core.frame.DataFrame'>\n",
      "RangeIndex: 32 entries, 0 to 31\n",
      "Data columns (total 2 columns):\n",
      " #   Column      Non-Null Count  Dtype  \n",
      "---  ------      --------------  -----  \n",
      " 0   casesTotal  32 non-null     float64\n",
      " 1   date        32 non-null     object \n",
      "dtypes: float64(1), object(1)\n",
      "memory usage: 640.0+ bytes\n"
     ]
    }
   ],
   "source": [
    "covid_19_Aggregate.info()"
   ]
  },
  {
   "cell_type": "code",
   "execution_count": 10,
   "metadata": {},
   "outputs": [
    {
     "data": {
      "text/html": [
       "<div>\n",
       "<style scoped>\n",
       "    .dataframe tbody tr th:only-of-type {\n",
       "        vertical-align: middle;\n",
       "    }\n",
       "\n",
       "    .dataframe tbody tr th {\n",
       "        vertical-align: top;\n",
       "    }\n",
       "\n",
       "    .dataframe thead th {\n",
       "        text-align: right;\n",
       "    }\n",
       "</style>\n",
       "<table border=\"1\" class=\"dataframe\">\n",
       "  <thead>\n",
       "    <tr style=\"text-align: right;\">\n",
       "      <th></th>\n",
       "      <th>caseId</th>\n",
       "      <th>date</th>\n",
       "      <th>datePlain</th>\n",
       "    </tr>\n",
       "  </thead>\n",
       "  <tbody>\n",
       "    <tr>\n",
       "      <th>0</th>\n",
       "      <td>1</td>\n",
       "      <td>2020-03-27T00:00:00</td>\n",
       "      <td>20200327</td>\n",
       "    </tr>\n",
       "    <tr>\n",
       "      <th>1</th>\n",
       "      <td>2</td>\n",
       "      <td>2020-03-28T00:00:00</td>\n",
       "      <td>20200328</td>\n",
       "    </tr>\n",
       "    <tr>\n",
       "      <th>2</th>\n",
       "      <td>3</td>\n",
       "      <td>2020-03-30T00:00:00</td>\n",
       "      <td>20200330</td>\n",
       "    </tr>\n",
       "    <tr>\n",
       "      <th>3</th>\n",
       "      <td>4</td>\n",
       "      <td>2020-03-31T00:00:00</td>\n",
       "      <td>20200331</td>\n",
       "    </tr>\n",
       "    <tr>\n",
       "      <th>4</th>\n",
       "      <td>5</td>\n",
       "      <td>2020-03-31T00:00:00</td>\n",
       "      <td>20200331</td>\n",
       "    </tr>\n",
       "  </tbody>\n",
       "</table>\n",
       "</div>"
      ],
      "text/plain": [
       "   caseId                 date datePlain\n",
       "0       1  2020-03-27T00:00:00  20200327\n",
       "1       2  2020-03-28T00:00:00  20200328\n",
       "2       3  2020-03-30T00:00:00  20200330\n",
       "3       4  2020-03-31T00:00:00  20200331\n",
       "4       5  2020-03-31T00:00:00  20200331"
      ]
     },
     "execution_count": 10,
     "metadata": {},
     "output_type": "execute_result"
    }
   ],
   "source": [
    "covid_19_All_Deaths = pd.DataFrame(response4.json())\n",
    "covid_19_All_Deaths.head()"
   ]
  },
  {
   "cell_type": "code",
   "execution_count": 11,
   "metadata": {},
   "outputs": [
    {
     "name": "stdout",
     "output_type": "stream",
     "text": [
      "<class 'pandas.core.frame.DataFrame'>\n",
      "RangeIndex: 13 entries, 0 to 12\n",
      "Data columns (total 3 columns):\n",
      " #   Column     Non-Null Count  Dtype \n",
      "---  ------     --------------  ----- \n",
      " 0   caseId     13 non-null     int64 \n",
      " 1   date       13 non-null     object\n",
      " 2   datePlain  13 non-null     object\n",
      "dtypes: int64(1), object(2)\n",
      "memory usage: 440.0+ bytes\n"
     ]
    }
   ],
   "source": [
    "covid_19_All_Deaths.info()"
   ]
  },
  {
   "cell_type": "code",
   "execution_count": 12,
   "metadata": {},
   "outputs": [
    {
     "data": {
      "text/html": [
       "<div>\n",
       "<style scoped>\n",
       "    .dataframe tbody tr th:only-of-type {\n",
       "        vertical-align: middle;\n",
       "    }\n",
       "\n",
       "    .dataframe tbody tr th {\n",
       "        vertical-align: top;\n",
       "    }\n",
       "\n",
       "    .dataframe thead th {\n",
       "        text-align: right;\n",
       "    }\n",
       "</style>\n",
       "<table border=\"1\" class=\"dataframe\">\n",
       "  <thead>\n",
       "    <tr style=\"text-align: right;\">\n",
       "      <th></th>\n",
       "      <th>name</th>\n",
       "      <th>long</th>\n",
       "      <th>lat</th>\n",
       "      <th>category</th>\n",
       "      <th>province</th>\n",
       "      <th>district</th>\n",
       "      <th>subDistrict</th>\n",
       "    </tr>\n",
       "  </thead>\n",
       "  <tbody>\n",
       "    <tr>\n",
       "      <th>0</th>\n",
       "      <td>183</td>\n",
       "      <td>Fort England Hospital</td>\n",
       "      <td>26.54361</td>\n",
       "      <td>-33.3156</td>\n",
       "      <td>Public Hospital</td>\n",
       "      <td>Eastern Cape</td>\n",
       "      <td>Sarah Baartman District Municipality</td>\n",
       "    </tr>\n",
       "    <tr>\n",
       "      <th>1</th>\n",
       "      <td>91</td>\n",
       "      <td>Fort Beaufort Hospital</td>\n",
       "      <td>26.633571</td>\n",
       "      <td>-32.7802</td>\n",
       "      <td>Public Hospital</td>\n",
       "      <td>Eastern Cape</td>\n",
       "      <td>Amathole District Municipality</td>\n",
       "    </tr>\n",
       "    <tr>\n",
       "      <th>2</th>\n",
       "      <td>95</td>\n",
       "      <td>Bhisho Hospital</td>\n",
       "      <td>27.45516</td>\n",
       "      <td>-32.8277</td>\n",
       "      <td>Public Hospital</td>\n",
       "      <td>Eastern Cape</td>\n",
       "      <td>Buffalo City Metropolitan Municipality</td>\n",
       "    </tr>\n",
       "    <tr>\n",
       "      <th>3</th>\n",
       "      <td>99</td>\n",
       "      <td>Grey Hospital</td>\n",
       "      <td>27.39579</td>\n",
       "      <td>-32.8793</td>\n",
       "      <td>Public Hospital</td>\n",
       "      <td>Eastern Cape</td>\n",
       "      <td>Buffalo City Metropolitan Municipality</td>\n",
       "    </tr>\n",
       "    <tr>\n",
       "      <th>4</th>\n",
       "      <td>138</td>\n",
       "      <td>St Francis Hospital</td>\n",
       "      <td>26.69921</td>\n",
       "      <td>-30.6887</td>\n",
       "      <td>Public Hospital</td>\n",
       "      <td>Eastern Cape</td>\n",
       "      <td>Zululand District Municipality</td>\n",
       "    </tr>\n",
       "  </tbody>\n",
       "</table>\n",
       "</div>"
      ],
      "text/plain": [
       "  name                    long        lat  category         province  \\\n",
       "0  183   Fort England Hospital   26.54361  -33.3156  Public Hospital   \n",
       "1   91  Fort Beaufort Hospital  26.633571  -32.7802  Public Hospital   \n",
       "2   95         Bhisho Hospital   27.45516  -32.8277  Public Hospital   \n",
       "3   99           Grey Hospital   27.39579  -32.8793  Public Hospital   \n",
       "4  138     St Francis Hospital   26.69921  -30.6887  Public Hospital   \n",
       "\n",
       "       district                             subDistrict  \n",
       "0  Eastern Cape    Sarah Baartman District Municipality  \n",
       "1  Eastern Cape          Amathole District Municipality  \n",
       "2  Eastern Cape  Buffalo City Metropolitan Municipality  \n",
       "3  Eastern Cape  Buffalo City Metropolitan Municipality  \n",
       "4  Eastern Cape          Zululand District Municipality  "
      ]
     },
     "execution_count": 12,
     "metadata": {},
     "output_type": "execute_result"
    }
   ],
   "source": [
    "covid_19_Pub_Hospitals = pd.DataFrame(response5.json())\n",
    "covid_19_Pub_Hospitals.head()"
   ]
  },
  {
   "cell_type": "code",
   "execution_count": 13,
   "metadata": {},
   "outputs": [
    {
     "name": "stdout",
     "output_type": "stream",
     "text": [
      "<class 'pandas.core.frame.DataFrame'>\n",
      "RangeIndex: 856 entries, 0 to 855\n",
      "Data columns (total 7 columns):\n",
      " #   Column       Non-Null Count  Dtype \n",
      "---  ------       --------------  ----- \n",
      " 0   name         856 non-null    object\n",
      " 1   long         856 non-null    object\n",
      " 2   lat          856 non-null    object\n",
      " 3   category     856 non-null    object\n",
      " 4   province     856 non-null    object\n",
      " 5   district     856 non-null    object\n",
      " 6   subDistrict  856 non-null    object\n",
      "dtypes: object(7)\n",
      "memory usage: 46.9+ KB\n"
     ]
    }
   ],
   "source": [
    "covid_19_Pub_Hospitals.info()"
   ]
  },
  {
   "cell_type": "code",
   "execution_count": 14,
   "metadata": {},
   "outputs": [
    {
     "data": {
      "text/html": [
       "<div>\n",
       "<style scoped>\n",
       "    .dataframe tbody tr th:only-of-type {\n",
       "        vertical-align: middle;\n",
       "    }\n",
       "\n",
       "    .dataframe tbody tr th {\n",
       "        vertical-align: top;\n",
       "    }\n",
       "\n",
       "    .dataframe thead th {\n",
       "        text-align: right;\n",
       "    }\n",
       "</style>\n",
       "<table border=\"1\" class=\"dataframe\">\n",
       "  <thead>\n",
       "    <tr style=\"text-align: right;\">\n",
       "      <th></th>\n",
       "      <th>id</th>\n",
       "      <th>hospitalName</th>\n",
       "      <th>long</th>\n",
       "      <th>lat</th>\n",
       "      <th>province</th>\n",
       "    </tr>\n",
       "  </thead>\n",
       "  <tbody>\n",
       "    <tr>\n",
       "      <th>0</th>\n",
       "      <td>464</td>\n",
       "      <td>Mediclinic Newcastle Day Hospital</td>\n",
       "      <td>29.931891</td>\n",
       "      <td>-27.7672</td>\n",
       "      <td>ZA-KZN</td>\n",
       "    </tr>\n",
       "    <tr>\n",
       "      <th>1</th>\n",
       "      <td>465</td>\n",
       "      <td>Mediclinic Newcastle Hospital</td>\n",
       "      <td>29.931392</td>\n",
       "      <td>-27.7685</td>\n",
       "      <td>ZA-KZN</td>\n",
       "    </tr>\n",
       "    <tr>\n",
       "      <th>2</th>\n",
       "      <td>466</td>\n",
       "      <td>Ahmed Al-Kadi Prv Hospital</td>\n",
       "      <td>30.978631</td>\n",
       "      <td>-29.844</td>\n",
       "      <td>ZA-KZN</td>\n",
       "    </tr>\n",
       "    <tr>\n",
       "      <th>3</th>\n",
       "      <td>467</td>\n",
       "      <td>Akeso Umhlanga Hospital</td>\n",
       "      <td>31.068422</td>\n",
       "      <td>-29.7129</td>\n",
       "      <td>ZA-KZN</td>\n",
       "    </tr>\n",
       "    <tr>\n",
       "      <th>4</th>\n",
       "      <td>468</td>\n",
       "      <td>Alliance Care Umhlanga Hospital</td>\n",
       "      <td>31.021882</td>\n",
       "      <td>-29.7547</td>\n",
       "      <td>ZA-KZN</td>\n",
       "    </tr>\n",
       "  </tbody>\n",
       "</table>\n",
       "</div>"
      ],
      "text/plain": [
       "    id                       hospitalName       long       lat province\n",
       "0  464  Mediclinic Newcastle Day Hospital  29.931891  -27.7672   ZA-KZN\n",
       "1  465      Mediclinic Newcastle Hospital  29.931392  -27.7685   ZA-KZN\n",
       "2  466         Ahmed Al-Kadi Prv Hospital  30.978631   -29.844   ZA-KZN\n",
       "3  467            Akeso Umhlanga Hospital  31.068422  -29.7129   ZA-KZN\n",
       "4  468    Alliance Care Umhlanga Hospital  31.021882  -29.7547   ZA-KZN"
      ]
     },
     "execution_count": 14,
     "metadata": {},
     "output_type": "execute_result"
    }
   ],
   "source": [
    "covid_19_Priv_Hospitals = pd.DataFrame(response6.json())\n",
    "covid_19_Priv_Hospitals.head()"
   ]
  },
  {
   "cell_type": "code",
   "execution_count": 15,
   "metadata": {},
   "outputs": [
    {
     "name": "stdout",
     "output_type": "stream",
     "text": [
      "<class 'pandas.core.frame.DataFrame'>\n",
      "RangeIndex: 430 entries, 0 to 429\n",
      "Data columns (total 5 columns):\n",
      " #   Column        Non-Null Count  Dtype \n",
      "---  ------        --------------  ----- \n",
      " 0   id            430 non-null    int64 \n",
      " 1   hospitalName  430 non-null    object\n",
      " 2   long          430 non-null    object\n",
      " 3   lat           430 non-null    object\n",
      " 4   province      430 non-null    object\n",
      "dtypes: int64(1), object(4)\n",
      "memory usage: 16.9+ KB\n"
     ]
    }
   ],
   "source": [
    "covid_19_Priv_Hospitals.info()"
   ]
  },
  {
   "cell_type": "code",
   "execution_count": 16,
   "metadata": {},
   "outputs": [
    {
     "data": {
      "text/html": [
       "<div>\n",
       "<style scoped>\n",
       "    .dataframe tbody tr th:only-of-type {\n",
       "        vertical-align: middle;\n",
       "    }\n",
       "\n",
       "    .dataframe tbody tr th {\n",
       "        vertical-align: top;\n",
       "    }\n",
       "\n",
       "    .dataframe thead th {\n",
       "        text-align: right;\n",
       "    }\n",
       "</style>\n",
       "<table border=\"1\" class=\"dataframe\">\n",
       "  <thead>\n",
       "    <tr style=\"text-align: right;\">\n",
       "      <th></th>\n",
       "      <th>date</th>\n",
       "      <th>datePlain</th>\n",
       "      <th>cmulativeTests</th>\n",
       "      <th>recovered</th>\n",
       "      <th>deaths</th>\n",
       "      <th>scannedTravellers</th>\n",
       "      <th>passengersElevatedTemperature</th>\n",
       "      <th>covidSuspectedCriteria</th>\n",
       "    </tr>\n",
       "  </thead>\n",
       "  <tbody>\n",
       "    <tr>\n",
       "      <th>0</th>\n",
       "      <td>2020-02-11T00:00:00</td>\n",
       "      <td>20200211</td>\n",
       "      <td>61</td>\n",
       "      <td>0</td>\n",
       "      <td>0</td>\n",
       "      <td>0</td>\n",
       "      <td>0</td>\n",
       "      <td>0</td>\n",
       "    </tr>\n",
       "    <tr>\n",
       "      <th>1</th>\n",
       "      <td>2020-02-13T00:00:00</td>\n",
       "      <td>20200213</td>\n",
       "      <td>67</td>\n",
       "      <td>0</td>\n",
       "      <td>0</td>\n",
       "      <td>0</td>\n",
       "      <td>0</td>\n",
       "      <td>0</td>\n",
       "    </tr>\n",
       "    <tr>\n",
       "      <th>2</th>\n",
       "      <td>2020-02-14T00:00:00</td>\n",
       "      <td>20200214</td>\n",
       "      <td>71</td>\n",
       "      <td>0</td>\n",
       "      <td>0</td>\n",
       "      <td>0</td>\n",
       "      <td>0</td>\n",
       "      <td>0</td>\n",
       "    </tr>\n",
       "    <tr>\n",
       "      <th>3</th>\n",
       "      <td>2020-02-19T00:00:00</td>\n",
       "      <td>20200219</td>\n",
       "      <td>95</td>\n",
       "      <td>0</td>\n",
       "      <td>0</td>\n",
       "      <td>0</td>\n",
       "      <td>0</td>\n",
       "      <td>0</td>\n",
       "    </tr>\n",
       "    <tr>\n",
       "      <th>4</th>\n",
       "      <td>2020-02-20T00:00:00</td>\n",
       "      <td>20200220</td>\n",
       "      <td>106</td>\n",
       "      <td>0</td>\n",
       "      <td>0</td>\n",
       "      <td>0</td>\n",
       "      <td>0</td>\n",
       "      <td>0</td>\n",
       "    </tr>\n",
       "  </tbody>\n",
       "</table>\n",
       "</div>"
      ],
      "text/plain": [
       "                  date datePlain  cmulativeTests  recovered  deaths  \\\n",
       "0  2020-02-11T00:00:00  20200211              61          0       0   \n",
       "1  2020-02-13T00:00:00  20200213              67          0       0   \n",
       "2  2020-02-14T00:00:00  20200214              71          0       0   \n",
       "3  2020-02-19T00:00:00  20200219              95          0       0   \n",
       "4  2020-02-20T00:00:00  20200220             106          0       0   \n",
       "\n",
       "   scannedTravellers  passengersElevatedTemperature  covidSuspectedCriteria  \n",
       "0                  0                              0                       0  \n",
       "1                  0                              0                       0  \n",
       "2                  0                              0                       0  \n",
       "3                  0                              0                       0  \n",
       "4                  0                              0                       0  "
      ]
     },
     "execution_count": 16,
     "metadata": {},
     "output_type": "execute_result"
    }
   ],
   "source": [
    "covid_19_Tests = pd.DataFrame(response7.json())\n",
    "covid_19_Tests.head()"
   ]
  },
  {
   "cell_type": "code",
   "execution_count": 17,
   "metadata": {},
   "outputs": [
    {
     "name": "stdout",
     "output_type": "stream",
     "text": [
      "<class 'pandas.core.frame.DataFrame'>\n",
      "RangeIndex: 41 entries, 0 to 40\n",
      "Data columns (total 8 columns):\n",
      " #   Column                         Non-Null Count  Dtype \n",
      "---  ------                         --------------  ----- \n",
      " 0   date                           41 non-null     object\n",
      " 1   datePlain                      41 non-null     object\n",
      " 2   cmulativeTests                 41 non-null     int64 \n",
      " 3   recovered                      41 non-null     int64 \n",
      " 4   deaths                         41 non-null     int64 \n",
      " 5   scannedTravellers              41 non-null     int64 \n",
      " 6   passengersElevatedTemperature  41 non-null     int64 \n",
      " 7   covidSuspectedCriteria         41 non-null     int64 \n",
      "dtypes: int64(6), object(2)\n",
      "memory usage: 2.7+ KB\n"
     ]
    }
   ],
   "source": [
    "covid_19_Tests.info()"
   ]
  },
  {
   "cell_type": "code",
   "execution_count": 19,
   "metadata": {},
   "outputs": [
    {
     "name": "stdout",
     "output_type": "stream",
     "text": [
      "200\n"
     ]
    }
   ],
   "source": [
    "response = requests.get(\"https://api.covid19api.com/summary\")\n",
    "print(response.status_code)"
   ]
  },
  {
   "cell_type": "code",
   "execution_count": 21,
   "metadata": {},
   "outputs": [],
   "source": [
    "def jprint(obj):\n",
    "    # create a formatted string of the Python JSON object\n",
    "    text = json.dumps(obj, sort_keys = True, indent = 4, separators=(',', ': '))\n",
    "    #print(text)\n",
    "\n",
    "# jprint(response.json())"
   ]
  },
  {
   "cell_type": "code",
   "execution_count": 22,
   "metadata": {},
   "outputs": [
    {
     "data": {
      "text/plain": [
       "dict"
      ]
     },
     "execution_count": 22,
     "metadata": {},
     "output_type": "execute_result"
    }
   ],
   "source": [
    "type(response.json())"
   ]
  },
  {
   "cell_type": "code",
   "execution_count": 23,
   "metadata": {},
   "outputs": [
    {
     "name": "stdout",
     "output_type": "stream",
     "text": [
      "Global\n",
      "Countries\n",
      "Date\n"
     ]
    }
   ],
   "source": [
    "for i in response.json():\n",
    "    print(i)"
   ]
  },
  {
   "cell_type": "code",
   "execution_count": 26,
   "metadata": {},
   "outputs": [],
   "source": [
    "for i in response.json():\n",
    "    Countries = response.json()['Countries']\n",
    "#     print(Countries)"
   ]
  },
  {
   "cell_type": "code",
   "execution_count": 27,
   "metadata": {},
   "outputs": [
    {
     "data": {
      "text/html": [
       "<div>\n",
       "<style scoped>\n",
       "    .dataframe tbody tr th:only-of-type {\n",
       "        vertical-align: middle;\n",
       "    }\n",
       "\n",
       "    .dataframe tbody tr th {\n",
       "        vertical-align: top;\n",
       "    }\n",
       "\n",
       "    .dataframe thead th {\n",
       "        text-align: right;\n",
       "    }\n",
       "</style>\n",
       "<table border=\"1\" class=\"dataframe\">\n",
       "  <thead>\n",
       "    <tr style=\"text-align: right;\">\n",
       "      <th></th>\n",
       "      <th>Country</th>\n",
       "      <th>CountryCode</th>\n",
       "      <th>Slug</th>\n",
       "      <th>NewConfirmed</th>\n",
       "      <th>TotalConfirmed</th>\n",
       "      <th>NewDeaths</th>\n",
       "      <th>TotalDeaths</th>\n",
       "      <th>NewRecovered</th>\n",
       "      <th>TotalRecovered</th>\n",
       "      <th>Date</th>\n",
       "    </tr>\n",
       "  </thead>\n",
       "  <tbody>\n",
       "    <tr>\n",
       "      <th>0</th>\n",
       "      <td>ALA Aland Islands</td>\n",
       "      <td>AX</td>\n",
       "      <td>ala-aland-islands</td>\n",
       "      <td>0</td>\n",
       "      <td>0</td>\n",
       "      <td>0</td>\n",
       "      <td>0</td>\n",
       "      <td>0</td>\n",
       "      <td>0</td>\n",
       "      <td>2020-04-07T15:20:58Z</td>\n",
       "    </tr>\n",
       "    <tr>\n",
       "      <th>1</th>\n",
       "      <td>Afghanistan</td>\n",
       "      <td>AF</td>\n",
       "      <td>afghanistan</td>\n",
       "      <td>18</td>\n",
       "      <td>367</td>\n",
       "      <td>4</td>\n",
       "      <td>11</td>\n",
       "      <td>3</td>\n",
       "      <td>18</td>\n",
       "      <td>2020-04-07T15:20:58Z</td>\n",
       "    </tr>\n",
       "    <tr>\n",
       "      <th>2</th>\n",
       "      <td>Albania</td>\n",
       "      <td>AL</td>\n",
       "      <td>albania</td>\n",
       "      <td>16</td>\n",
       "      <td>377</td>\n",
       "      <td>1</td>\n",
       "      <td>21</td>\n",
       "      <td>12</td>\n",
       "      <td>116</td>\n",
       "      <td>2020-04-07T15:20:58Z</td>\n",
       "    </tr>\n",
       "    <tr>\n",
       "      <th>3</th>\n",
       "      <td>Algeria</td>\n",
       "      <td>DZ</td>\n",
       "      <td>algeria</td>\n",
       "      <td>103</td>\n",
       "      <td>1423</td>\n",
       "      <td>21</td>\n",
       "      <td>173</td>\n",
       "      <td>0</td>\n",
       "      <td>90</td>\n",
       "      <td>2020-04-07T15:20:58Z</td>\n",
       "    </tr>\n",
       "    <tr>\n",
       "      <th>4</th>\n",
       "      <td>American Samoa</td>\n",
       "      <td>AS</td>\n",
       "      <td>american-samoa</td>\n",
       "      <td>0</td>\n",
       "      <td>0</td>\n",
       "      <td>0</td>\n",
       "      <td>0</td>\n",
       "      <td>0</td>\n",
       "      <td>0</td>\n",
       "      <td>2020-04-07T15:20:58Z</td>\n",
       "    </tr>\n",
       "  </tbody>\n",
       "</table>\n",
       "</div>"
      ],
      "text/plain": [
       "             Country CountryCode               Slug  NewConfirmed  \\\n",
       "0  ALA Aland Islands          AX  ala-aland-islands             0   \n",
       "1        Afghanistan          AF        afghanistan            18   \n",
       "2            Albania          AL            albania            16   \n",
       "3            Algeria          DZ            algeria           103   \n",
       "4     American Samoa          AS     american-samoa             0   \n",
       "\n",
       "   TotalConfirmed  NewDeaths  TotalDeaths  NewRecovered  TotalRecovered  \\\n",
       "0               0          0            0             0               0   \n",
       "1             367          4           11             3              18   \n",
       "2             377          1           21            12             116   \n",
       "3            1423         21          173             0              90   \n",
       "4               0          0            0             0               0   \n",
       "\n",
       "                   Date  \n",
       "0  2020-04-07T15:20:58Z  \n",
       "1  2020-04-07T15:20:58Z  \n",
       "2  2020-04-07T15:20:58Z  \n",
       "3  2020-04-07T15:20:58Z  \n",
       "4  2020-04-07T15:20:58Z  "
      ]
     },
     "execution_count": 27,
     "metadata": {},
     "output_type": "execute_result"
    }
   ],
   "source": [
    "Country = pd.DataFrame(Countries)\n",
    "\n",
    "Country.head()\n"
   ]
  },
  {
   "cell_type": "code",
   "execution_count": null,
   "metadata": {},
   "outputs": [],
   "source": []
  }
 ],
 "metadata": {
  "kernelspec": {
   "display_name": "Python 3",
   "language": "python",
   "name": "python3"
  },
  "language_info": {
   "codemirror_mode": {
    "name": "ipython",
    "version": 3
   },
   "file_extension": ".py",
   "mimetype": "text/x-python",
   "name": "python",
   "nbconvert_exporter": "python",
   "pygments_lexer": "ipython3",
   "version": "3.7.3"
  }
 },
 "nbformat": 4,
 "nbformat_minor": 4
}
