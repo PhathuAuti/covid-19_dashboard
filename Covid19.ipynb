{
 "cells": [
  {
   "cell_type": "markdown",
   "metadata": {},
   "source": [
    "## Covid-19 Data \n",
    "### API data to Jupyter Notebook to Google Sheets\n"
   ]
  },
  {
   "cell_type": "code",
   "execution_count": 1,
   "metadata": {},
   "outputs": [],
   "source": [
    "import requests\n",
    "import json\n",
    "import pandas as pd\n",
    "import gspread\n",
    "from oauth2client.service_account import ServiceAccountCredentials\n",
    "from df2gspread import df2gspread as d2g"
   ]
  },
  {
   "cell_type": "code",
   "execution_count": 2,
   "metadata": {},
   "outputs": [],
   "source": [
    "scope = ['https://spreadsheets.google.com/feeds']\n",
    "credentials = ServiceAccountCredentials.from_json_keyfile_name('covid-19-jgs-f5e0a4db4c99.json', scope)\n",
    "gc = gspread.authorize(credentials)\n",
    "spreadsheet_key = '10cJhEec8cC4D0JlhpDXd3q0d_c8pm6aNffjv-IxptHs'"
   ]
  },
  {
   "cell_type": "code",
   "execution_count": 3,
   "metadata": {},
   "outputs": [],
   "source": [
    "# spreadsheet_key = '10cJhEec8cC4D0JlhpDXd3q0d_c8pm6aNffjv-IxptHs'\n",
    "# book = gc.open_by_key(spreadsheet_key)\n",
    "# worksheet = book.worksheet(\"Covid-19 Data\")\n",
    "# table = worksheet.get_all_values()"
   ]
  },
  {
   "cell_type": "code",
   "execution_count": 4,
   "metadata": {},
   "outputs": [
    {
     "name": "stdout",
     "output_type": "stream",
     "text": [
      "200\n"
     ]
    }
   ],
   "source": [
    "response = requests.get(\"https://api.covid19api.com/summary\")\n",
    "print(response.status_code)"
   ]
  },
  {
   "cell_type": "code",
   "execution_count": 5,
   "metadata": {},
   "outputs": [
    {
     "data": {
      "text/plain": [
       "dict"
      ]
     },
     "execution_count": 5,
     "metadata": {},
     "output_type": "execute_result"
    }
   ],
   "source": [
    "def jprint(obj):\n",
    "    # create a formatted string of the Python JSON object\n",
    "    text = json.dumps(obj, sort_keys = True, indent = 4, separators = (',', ': '))\n",
    "\n",
    "type(response.json())"
   ]
  },
  {
   "cell_type": "code",
   "execution_count": 6,
   "metadata": {},
   "outputs": [
    {
     "name": "stdout",
     "output_type": "stream",
     "text": [
      "Global\n",
      "Countries\n",
      "Date\n"
     ]
    }
   ],
   "source": [
    "for i in response.json():\n",
    "    print(i)"
   ]
  },
  {
   "cell_type": "code",
   "execution_count": 7,
   "metadata": {},
   "outputs": [],
   "source": [
    "for i in response.json():\n",
    "    Countries = response.json()['Countries']\n",
    "#     print(Countries)"
   ]
  },
  {
   "cell_type": "code",
   "execution_count": 8,
   "metadata": {},
   "outputs": [
    {
     "data": {
      "text/html": [
       "<div>\n",
       "<style scoped>\n",
       "    .dataframe tbody tr th:only-of-type {\n",
       "        vertical-align: middle;\n",
       "    }\n",
       "\n",
       "    .dataframe tbody tr th {\n",
       "        vertical-align: top;\n",
       "    }\n",
       "\n",
       "    .dataframe thead th {\n",
       "        text-align: right;\n",
       "    }\n",
       "</style>\n",
       "<table border=\"1\" class=\"dataframe\">\n",
       "  <thead>\n",
       "    <tr style=\"text-align: right;\">\n",
       "      <th></th>\n",
       "      <th>Country</th>\n",
       "      <th>CountryCode</th>\n",
       "      <th>Slug</th>\n",
       "      <th>NewConfirmed</th>\n",
       "      <th>TotalConfirmed</th>\n",
       "      <th>NewDeaths</th>\n",
       "      <th>TotalDeaths</th>\n",
       "      <th>NewRecovered</th>\n",
       "      <th>TotalRecovered</th>\n",
       "      <th>Date</th>\n",
       "    </tr>\n",
       "  </thead>\n",
       "  <tbody>\n",
       "    <tr>\n",
       "      <th>0</th>\n",
       "      <td>ALA Aland Islands</td>\n",
       "      <td>AX</td>\n",
       "      <td>ala-aland-islands</td>\n",
       "      <td>0</td>\n",
       "      <td>0</td>\n",
       "      <td>0</td>\n",
       "      <td>0</td>\n",
       "      <td>0</td>\n",
       "      <td>0</td>\n",
       "      <td>2020-05-01T11:28:57Z</td>\n",
       "    </tr>\n",
       "    <tr>\n",
       "      <th>1</th>\n",
       "      <td>Afghanistan</td>\n",
       "      <td>AF</td>\n",
       "      <td>afghanistan</td>\n",
       "      <td>232</td>\n",
       "      <td>2171</td>\n",
       "      <td>4</td>\n",
       "      <td>64</td>\n",
       "      <td>8</td>\n",
       "      <td>260</td>\n",
       "      <td>2020-05-01T11:28:57Z</td>\n",
       "    </tr>\n",
       "    <tr>\n",
       "      <th>2</th>\n",
       "      <td>Albania</td>\n",
       "      <td>AL</td>\n",
       "      <td>albania</td>\n",
       "      <td>7</td>\n",
       "      <td>773</td>\n",
       "      <td>1</td>\n",
       "      <td>31</td>\n",
       "      <td>15</td>\n",
       "      <td>470</td>\n",
       "      <td>2020-05-01T11:28:57Z</td>\n",
       "    </tr>\n",
       "    <tr>\n",
       "      <th>3</th>\n",
       "      <td>Algeria</td>\n",
       "      <td>DZ</td>\n",
       "      <td>algeria</td>\n",
       "      <td>158</td>\n",
       "      <td>4006</td>\n",
       "      <td>6</td>\n",
       "      <td>450</td>\n",
       "      <td>77</td>\n",
       "      <td>1779</td>\n",
       "      <td>2020-05-01T11:28:57Z</td>\n",
       "    </tr>\n",
       "    <tr>\n",
       "      <th>4</th>\n",
       "      <td>American Samoa</td>\n",
       "      <td>AS</td>\n",
       "      <td>american-samoa</td>\n",
       "      <td>0</td>\n",
       "      <td>0</td>\n",
       "      <td>0</td>\n",
       "      <td>0</td>\n",
       "      <td>0</td>\n",
       "      <td>0</td>\n",
       "      <td>2020-05-01T11:28:57Z</td>\n",
       "    </tr>\n",
       "  </tbody>\n",
       "</table>\n",
       "</div>"
      ],
      "text/plain": [
       "             Country CountryCode               Slug  NewConfirmed  \\\n",
       "0  ALA Aland Islands          AX  ala-aland-islands             0   \n",
       "1        Afghanistan          AF        afghanistan           232   \n",
       "2            Albania          AL            albania             7   \n",
       "3            Algeria          DZ            algeria           158   \n",
       "4     American Samoa          AS     american-samoa             0   \n",
       "\n",
       "   TotalConfirmed  NewDeaths  TotalDeaths  NewRecovered  TotalRecovered  \\\n",
       "0               0          0            0             0               0   \n",
       "1            2171          4           64             8             260   \n",
       "2             773          1           31            15             470   \n",
       "3            4006          6          450            77            1779   \n",
       "4               0          0            0             0               0   \n",
       "\n",
       "                   Date  \n",
       "0  2020-05-01T11:28:57Z  \n",
       "1  2020-05-01T11:28:57Z  \n",
       "2  2020-05-01T11:28:57Z  \n",
       "3  2020-05-01T11:28:57Z  \n",
       "4  2020-05-01T11:28:57Z  "
      ]
     },
     "execution_count": 8,
     "metadata": {},
     "output_type": "execute_result"
    }
   ],
   "source": [
    "Country = pd.DataFrame(Countries)\n",
    "Country.head()"
   ]
  },
  {
   "cell_type": "code",
   "execution_count": 9,
   "metadata": {},
   "outputs": [
    {
     "data": {
      "text/plain": [
       "<Worksheet 'Covid-19 Summary' id:0>"
      ]
     },
     "execution_count": 9,
     "metadata": {},
     "output_type": "execute_result"
    }
   ],
   "source": [
    "# Set the sheet name you want to upload data to and the start cell where the upload data begins \n",
    "wks_name = 'Covid-19 Summary'\n",
    "\n",
    "# upload the dataframe of the clients we want to delete\n",
    "d2g.upload(Country, spreadsheet_key, wks_name, credentials = credentials, col_names = True, \n",
    "           row_names = True, clean = True)"
   ]
  },
  {
   "cell_type": "code",
   "execution_count": 10,
   "metadata": {},
   "outputs": [
    {
     "name": "stdout",
     "output_type": "stream",
     "text": [
      "200\n"
     ]
    }
   ],
   "source": [
    "response2 = requests.get(\"https://api.covid19api.com/total/dayone/country/south-africa/status/confirmed\")\n",
    "print(response2.status_code)"
   ]
  },
  {
   "cell_type": "code",
   "execution_count": 11,
   "metadata": {},
   "outputs": [
    {
     "data": {
      "text/plain": [
       "list"
      ]
     },
     "execution_count": 11,
     "metadata": {},
     "output_type": "execute_result"
    }
   ],
   "source": [
    "def jprint(obj):\n",
    "    # create a formatted string of the Python JSON object\n",
    "    text = json.dumps(obj, sort_keys = True, indent = 4, separators = (',', ': '))\n",
    "    \n",
    "type(response2.json())"
   ]
  },
  {
   "cell_type": "code",
   "execution_count": 12,
   "metadata": {},
   "outputs": [
    {
     "data": {
      "text/html": [
       "<div>\n",
       "<style scoped>\n",
       "    .dataframe tbody tr th:only-of-type {\n",
       "        vertical-align: middle;\n",
       "    }\n",
       "\n",
       "    .dataframe tbody tr th {\n",
       "        vertical-align: top;\n",
       "    }\n",
       "\n",
       "    .dataframe thead th {\n",
       "        text-align: right;\n",
       "    }\n",
       "</style>\n",
       "<table border=\"1\" class=\"dataframe\">\n",
       "  <thead>\n",
       "    <tr style=\"text-align: right;\">\n",
       "      <th></th>\n",
       "      <th>Country</th>\n",
       "      <th>CountryCode</th>\n",
       "      <th>Province</th>\n",
       "      <th>City</th>\n",
       "      <th>CityCode</th>\n",
       "      <th>Lat</th>\n",
       "      <th>Lon</th>\n",
       "      <th>Cases</th>\n",
       "      <th>Status</th>\n",
       "      <th>Date</th>\n",
       "    </tr>\n",
       "  </thead>\n",
       "  <tbody>\n",
       "    <tr>\n",
       "      <th>52</th>\n",
       "      <td>South Africa</td>\n",
       "      <td></td>\n",
       "      <td></td>\n",
       "      <td></td>\n",
       "      <td></td>\n",
       "      <td>0</td>\n",
       "      <td>0</td>\n",
       "      <td>4546</td>\n",
       "      <td>confirmed</td>\n",
       "      <td>2020-04-26T00:00:00Z</td>\n",
       "    </tr>\n",
       "    <tr>\n",
       "      <th>53</th>\n",
       "      <td>South Africa</td>\n",
       "      <td></td>\n",
       "      <td></td>\n",
       "      <td></td>\n",
       "      <td></td>\n",
       "      <td>0</td>\n",
       "      <td>0</td>\n",
       "      <td>4793</td>\n",
       "      <td>confirmed</td>\n",
       "      <td>2020-04-27T00:00:00Z</td>\n",
       "    </tr>\n",
       "    <tr>\n",
       "      <th>54</th>\n",
       "      <td>South Africa</td>\n",
       "      <td></td>\n",
       "      <td></td>\n",
       "      <td></td>\n",
       "      <td></td>\n",
       "      <td>0</td>\n",
       "      <td>0</td>\n",
       "      <td>4996</td>\n",
       "      <td>confirmed</td>\n",
       "      <td>2020-04-28T00:00:00Z</td>\n",
       "    </tr>\n",
       "    <tr>\n",
       "      <th>55</th>\n",
       "      <td>South Africa</td>\n",
       "      <td></td>\n",
       "      <td></td>\n",
       "      <td></td>\n",
       "      <td></td>\n",
       "      <td>0</td>\n",
       "      <td>0</td>\n",
       "      <td>5350</td>\n",
       "      <td>confirmed</td>\n",
       "      <td>2020-04-29T00:00:00Z</td>\n",
       "    </tr>\n",
       "    <tr>\n",
       "      <th>56</th>\n",
       "      <td>South Africa</td>\n",
       "      <td></td>\n",
       "      <td></td>\n",
       "      <td></td>\n",
       "      <td></td>\n",
       "      <td>0</td>\n",
       "      <td>0</td>\n",
       "      <td>5647</td>\n",
       "      <td>confirmed</td>\n",
       "      <td>2020-04-30T00:00:00Z</td>\n",
       "    </tr>\n",
       "  </tbody>\n",
       "</table>\n",
       "</div>"
      ],
      "text/plain": [
       "         Country CountryCode Province City CityCode Lat Lon  Cases     Status  \\\n",
       "52  South Africa                                      0   0   4546  confirmed   \n",
       "53  South Africa                                      0   0   4793  confirmed   \n",
       "54  South Africa                                      0   0   4996  confirmed   \n",
       "55  South Africa                                      0   0   5350  confirmed   \n",
       "56  South Africa                                      0   0   5647  confirmed   \n",
       "\n",
       "                    Date  \n",
       "52  2020-04-26T00:00:00Z  \n",
       "53  2020-04-27T00:00:00Z  \n",
       "54  2020-04-28T00:00:00Z  \n",
       "55  2020-04-29T00:00:00Z  \n",
       "56  2020-04-30T00:00:00Z  "
      ]
     },
     "execution_count": 12,
     "metadata": {},
     "output_type": "execute_result"
    }
   ],
   "source": [
    "SA_confirmed = pd.DataFrame(response2.json())\n",
    "SA_confirmed.tail()"
   ]
  },
  {
   "cell_type": "code",
   "execution_count": 13,
   "metadata": {},
   "outputs": [],
   "source": [
    "# SA_confirmed.drop(SA_confirmed.tail(1).index,inplace=True)\n",
    "# SA_confirmed.tail()"
   ]
  },
  {
   "cell_type": "code",
   "execution_count": 14,
   "metadata": {},
   "outputs": [
    {
     "data": {
      "text/plain": [
       "<Worksheet 'Covid-19: SA Data' id:1067330366>"
      ]
     },
     "execution_count": 14,
     "metadata": {},
     "output_type": "execute_result"
    }
   ],
   "source": [
    "# Set the sheet name you want to upload data to and the start cell where the upload data begins \n",
    "wks_name = 'Covid-19: SA Data'\n",
    "\n",
    "# upload the dataframe of the clients we want to delete\n",
    "d2g.upload(SA_confirmed, spreadsheet_key, wks_name, credentials = credentials, col_names = True, \n",
    "           row_names = True, clean = True)"
   ]
  },
  {
   "cell_type": "code",
   "execution_count": 19,
   "metadata": {},
   "outputs": [
    {
     "name": "stdout",
     "output_type": "stream",
     "text": [
      "200\n"
     ]
    }
   ],
   "source": [
    "response3 = requests.get(\"https://api.covid19api.com/total/country/south-africa\")\n",
    "print(response2.status_code)"
   ]
  },
  {
   "cell_type": "code",
   "execution_count": 20,
   "metadata": {},
   "outputs": [
    {
     "data": {
      "text/plain": [
       "list"
      ]
     },
     "execution_count": 20,
     "metadata": {},
     "output_type": "execute_result"
    }
   ],
   "source": [
    "def jprint(obj):\n",
    "    # create a formatted string of the Python JSON object\n",
    "    text = json.dumps(obj, sort_keys = True, indent = 4, separators = (',', ': '))\n",
    "    \n",
    "type(response3.json())"
   ]
  },
  {
   "cell_type": "code",
   "execution_count": 21,
   "metadata": {},
   "outputs": [
    {
     "data": {
      "text/html": [
       "<div>\n",
       "<style scoped>\n",
       "    .dataframe tbody tr th:only-of-type {\n",
       "        vertical-align: middle;\n",
       "    }\n",
       "\n",
       "    .dataframe tbody tr th {\n",
       "        vertical-align: top;\n",
       "    }\n",
       "\n",
       "    .dataframe thead th {\n",
       "        text-align: right;\n",
       "    }\n",
       "</style>\n",
       "<table border=\"1\" class=\"dataframe\">\n",
       "  <thead>\n",
       "    <tr style=\"text-align: right;\">\n",
       "      <th></th>\n",
       "      <th>Country</th>\n",
       "      <th>CountryCode</th>\n",
       "      <th>Province</th>\n",
       "      <th>City</th>\n",
       "      <th>CityCode</th>\n",
       "      <th>Lat</th>\n",
       "      <th>Lon</th>\n",
       "      <th>Confirmed</th>\n",
       "      <th>Deaths</th>\n",
       "      <th>Recovered</th>\n",
       "      <th>Active</th>\n",
       "      <th>Date</th>\n",
       "    </tr>\n",
       "  </thead>\n",
       "  <tbody>\n",
       "    <tr>\n",
       "      <th>95</th>\n",
       "      <td>South Africa</td>\n",
       "      <td></td>\n",
       "      <td></td>\n",
       "      <td></td>\n",
       "      <td></td>\n",
       "      <td>0</td>\n",
       "      <td>0</td>\n",
       "      <td>4546</td>\n",
       "      <td>87</td>\n",
       "      <td>1473</td>\n",
       "      <td>0</td>\n",
       "      <td>2020-04-26T00:00:00Z</td>\n",
       "    </tr>\n",
       "    <tr>\n",
       "      <th>96</th>\n",
       "      <td>South Africa</td>\n",
       "      <td></td>\n",
       "      <td></td>\n",
       "      <td></td>\n",
       "      <td></td>\n",
       "      <td>0</td>\n",
       "      <td>0</td>\n",
       "      <td>4793</td>\n",
       "      <td>90</td>\n",
       "      <td>1473</td>\n",
       "      <td>0</td>\n",
       "      <td>2020-04-27T00:00:00Z</td>\n",
       "    </tr>\n",
       "    <tr>\n",
       "      <th>97</th>\n",
       "      <td>South Africa</td>\n",
       "      <td></td>\n",
       "      <td></td>\n",
       "      <td></td>\n",
       "      <td></td>\n",
       "      <td>0</td>\n",
       "      <td>0</td>\n",
       "      <td>4996</td>\n",
       "      <td>93</td>\n",
       "      <td>2073</td>\n",
       "      <td>0</td>\n",
       "      <td>2020-04-28T00:00:00Z</td>\n",
       "    </tr>\n",
       "    <tr>\n",
       "      <th>98</th>\n",
       "      <td>South Africa</td>\n",
       "      <td></td>\n",
       "      <td></td>\n",
       "      <td></td>\n",
       "      <td></td>\n",
       "      <td>0</td>\n",
       "      <td>0</td>\n",
       "      <td>5350</td>\n",
       "      <td>103</td>\n",
       "      <td>2073</td>\n",
       "      <td>0</td>\n",
       "      <td>2020-04-29T00:00:00Z</td>\n",
       "    </tr>\n",
       "    <tr>\n",
       "      <th>99</th>\n",
       "      <td>South Africa</td>\n",
       "      <td></td>\n",
       "      <td></td>\n",
       "      <td></td>\n",
       "      <td></td>\n",
       "      <td>0</td>\n",
       "      <td>0</td>\n",
       "      <td>5647</td>\n",
       "      <td>103</td>\n",
       "      <td>2073</td>\n",
       "      <td>0</td>\n",
       "      <td>2020-04-30T00:00:00Z</td>\n",
       "    </tr>\n",
       "  </tbody>\n",
       "</table>\n",
       "</div>"
      ],
      "text/plain": [
       "         Country CountryCode Province City CityCode Lat Lon  Confirmed  \\\n",
       "95  South Africa                                      0   0       4546   \n",
       "96  South Africa                                      0   0       4793   \n",
       "97  South Africa                                      0   0       4996   \n",
       "98  South Africa                                      0   0       5350   \n",
       "99  South Africa                                      0   0       5647   \n",
       "\n",
       "    Deaths  Recovered  Active                  Date  \n",
       "95      87       1473       0  2020-04-26T00:00:00Z  \n",
       "96      90       1473       0  2020-04-27T00:00:00Z  \n",
       "97      93       2073       0  2020-04-28T00:00:00Z  \n",
       "98     103       2073       0  2020-04-29T00:00:00Z  \n",
       "99     103       2073       0  2020-04-30T00:00:00Z  "
      ]
     },
     "execution_count": 21,
     "metadata": {},
     "output_type": "execute_result"
    }
   ],
   "source": [
    "SA_live = pd.DataFrame(response3.json())\n",
    "SA_live.tail()"
   ]
  },
  {
   "cell_type": "code",
   "execution_count": 22,
   "metadata": {},
   "outputs": [
    {
     "data": {
      "text/plain": [
       "<Worksheet 'Covid-19: SA Summary' id:1351985275>"
      ]
     },
     "execution_count": 22,
     "metadata": {},
     "output_type": "execute_result"
    }
   ],
   "source": [
    "# Set the sheet name you want to upload data to and the start cell where the upload data begins \n",
    "wks_name = 'Covid-19: SA Summary'\n",
    "\n",
    "# upload the dataframe of the clients we want to delete\n",
    "d2g.upload(SA_live, spreadsheet_key, wks_name, credentials = credentials, col_names = True, \n",
    "           row_names = True, clean = True)"
   ]
  },
  {
   "cell_type": "code",
   "execution_count": null,
   "metadata": {},
   "outputs": [],
   "source": []
  }
 ],
 "metadata": {
  "kernelspec": {
   "display_name": "Python 3",
   "language": "python",
   "name": "python3"
  },
  "language_info": {
   "codemirror_mode": {
    "name": "ipython",
    "version": 3
   },
   "file_extension": ".py",
   "mimetype": "text/x-python",
   "name": "python",
   "nbconvert_exporter": "python",
   "pygments_lexer": "ipython3",
   "version": "3.7.3"
  }
 },
 "nbformat": 4,
 "nbformat_minor": 4
}
