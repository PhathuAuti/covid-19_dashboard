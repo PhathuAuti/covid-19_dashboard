{
 "cells": [
  {
   "cell_type": "markdown",
   "metadata": {},
   "source": [
    "## Covid-19 Data \n",
    "### API data to Jupyter Notebook to Google Sheets\n"
   ]
  },
  {
   "cell_type": "code",
   "execution_count": 1,
   "metadata": {},
   "outputs": [],
   "source": [
    "import requests\n",
    "import json\n",
    "import pandas as pd\n",
    "import gspread\n",
    "from oauth2client.service_account import ServiceAccountCredentials\n",
    "from df2gspread import df2gspread as d2g"
   ]
  },
  {
   "cell_type": "code",
   "execution_count": 2,
   "metadata": {},
   "outputs": [],
   "source": [
    "scope = ['https://spreadsheets.google.com/feeds']\n",
    "credentials = ServiceAccountCredentials.from_json_keyfile_name('covid-19-jgs-f5e0a4db4c99.json', scope)\n",
    "gc = gspread.authorize(credentials)\n",
    "spreadsheet_key = '10cJhEec8cC4D0JlhpDXd3q0d_c8pm6aNffjv-IxptHs'"
   ]
  },
  {
   "cell_type": "code",
   "execution_count": 3,
   "metadata": {},
   "outputs": [],
   "source": [
    "# spreadsheet_key = '10cJhEec8cC4D0JlhpDXd3q0d_c8pm6aNffjv-IxptHs'\n",
    "# book = gc.open_by_key(spreadsheet_key)\n",
    "# worksheet = book.worksheet(\"Covid-19 Data\")\n",
    "# table = worksheet.get_all_values()"
   ]
  },
  {
   "cell_type": "code",
   "execution_count": 4,
   "metadata": {},
   "outputs": [
    {
     "name": "stdout",
     "output_type": "stream",
     "text": [
      "200\n"
     ]
    }
   ],
   "source": [
    "response = requests.get(\"https://api.covid19api.com/summary\")\n",
    "print(response.status_code)"
   ]
  },
  {
   "cell_type": "code",
   "execution_count": 5,
   "metadata": {},
   "outputs": [
    {
     "data": {
      "text/plain": [
       "dict"
      ]
     },
     "execution_count": 5,
     "metadata": {},
     "output_type": "execute_result"
    }
   ],
   "source": [
    "def jprint(obj):\n",
    "    # create a formatted string of the Python JSON object\n",
    "    text = json.dumps(obj, sort_keys = True, indent = 4, separators = (',', ': '))\n",
    "\n",
    "type(response.json())"
   ]
  },
  {
   "cell_type": "code",
   "execution_count": 6,
   "metadata": {},
   "outputs": [
    {
     "name": "stdout",
     "output_type": "stream",
     "text": [
      "Global\n",
      "Countries\n",
      "Date\n"
     ]
    }
   ],
   "source": [
    "for i in response.json():\n",
    "    print(i)"
   ]
  },
  {
   "cell_type": "code",
   "execution_count": 7,
   "metadata": {},
   "outputs": [],
   "source": [
    "for i in response.json():\n",
    "    Countries = response.json()['Countries']\n",
    "#     print(Countries)"
   ]
  },
  {
   "cell_type": "code",
   "execution_count": 8,
   "metadata": {},
   "outputs": [
    {
     "data": {
      "text/html": [
       "<div>\n",
       "<style scoped>\n",
       "    .dataframe tbody tr th:only-of-type {\n",
       "        vertical-align: middle;\n",
       "    }\n",
       "\n",
       "    .dataframe tbody tr th {\n",
       "        vertical-align: top;\n",
       "    }\n",
       "\n",
       "    .dataframe thead th {\n",
       "        text-align: right;\n",
       "    }\n",
       "</style>\n",
       "<table border=\"1\" class=\"dataframe\">\n",
       "  <thead>\n",
       "    <tr style=\"text-align: right;\">\n",
       "      <th></th>\n",
       "      <th>Country</th>\n",
       "      <th>CountryCode</th>\n",
       "      <th>Slug</th>\n",
       "      <th>NewConfirmed</th>\n",
       "      <th>TotalConfirmed</th>\n",
       "      <th>NewDeaths</th>\n",
       "      <th>TotalDeaths</th>\n",
       "      <th>NewRecovered</th>\n",
       "      <th>TotalRecovered</th>\n",
       "      <th>Date</th>\n",
       "    </tr>\n",
       "  </thead>\n",
       "  <tbody>\n",
       "    <tr>\n",
       "      <th>0</th>\n",
       "      <td>ALA Aland Islands</td>\n",
       "      <td>AX</td>\n",
       "      <td>ala-aland-islands</td>\n",
       "      <td>0</td>\n",
       "      <td>0</td>\n",
       "      <td>0</td>\n",
       "      <td>0</td>\n",
       "      <td>0</td>\n",
       "      <td>0</td>\n",
       "      <td>2020-04-28T09:49:02Z</td>\n",
       "    </tr>\n",
       "    <tr>\n",
       "      <th>1</th>\n",
       "      <td>Afghanistan</td>\n",
       "      <td>AF</td>\n",
       "      <td>afghanistan</td>\n",
       "      <td>172</td>\n",
       "      <td>1703</td>\n",
       "      <td>7</td>\n",
       "      <td>57</td>\n",
       "      <td>13</td>\n",
       "      <td>220</td>\n",
       "      <td>2020-04-28T09:49:02Z</td>\n",
       "    </tr>\n",
       "    <tr>\n",
       "      <th>2</th>\n",
       "      <td>Albania</td>\n",
       "      <td>AL</td>\n",
       "      <td>albania</td>\n",
       "      <td>10</td>\n",
       "      <td>736</td>\n",
       "      <td>0</td>\n",
       "      <td>28</td>\n",
       "      <td>12</td>\n",
       "      <td>422</td>\n",
       "      <td>2020-04-28T09:49:02Z</td>\n",
       "    </tr>\n",
       "    <tr>\n",
       "      <th>3</th>\n",
       "      <td>Algeria</td>\n",
       "      <td>DZ</td>\n",
       "      <td>algeria</td>\n",
       "      <td>135</td>\n",
       "      <td>3517</td>\n",
       "      <td>7</td>\n",
       "      <td>432</td>\n",
       "      <td>50</td>\n",
       "      <td>1558</td>\n",
       "      <td>2020-04-28T09:49:02Z</td>\n",
       "    </tr>\n",
       "    <tr>\n",
       "      <th>4</th>\n",
       "      <td>American Samoa</td>\n",
       "      <td>AS</td>\n",
       "      <td>american-samoa</td>\n",
       "      <td>0</td>\n",
       "      <td>0</td>\n",
       "      <td>0</td>\n",
       "      <td>0</td>\n",
       "      <td>0</td>\n",
       "      <td>0</td>\n",
       "      <td>2020-04-28T09:49:02Z</td>\n",
       "    </tr>\n",
       "  </tbody>\n",
       "</table>\n",
       "</div>"
      ],
      "text/plain": [
       "             Country CountryCode               Slug  NewConfirmed  \\\n",
       "0  ALA Aland Islands          AX  ala-aland-islands             0   \n",
       "1        Afghanistan          AF        afghanistan           172   \n",
       "2            Albania          AL            albania            10   \n",
       "3            Algeria          DZ            algeria           135   \n",
       "4     American Samoa          AS     american-samoa             0   \n",
       "\n",
       "   TotalConfirmed  NewDeaths  TotalDeaths  NewRecovered  TotalRecovered  \\\n",
       "0               0          0            0             0               0   \n",
       "1            1703          7           57            13             220   \n",
       "2             736          0           28            12             422   \n",
       "3            3517          7          432            50            1558   \n",
       "4               0          0            0             0               0   \n",
       "\n",
       "                   Date  \n",
       "0  2020-04-28T09:49:02Z  \n",
       "1  2020-04-28T09:49:02Z  \n",
       "2  2020-04-28T09:49:02Z  \n",
       "3  2020-04-28T09:49:02Z  \n",
       "4  2020-04-28T09:49:02Z  "
      ]
     },
     "execution_count": 8,
     "metadata": {},
     "output_type": "execute_result"
    }
   ],
   "source": [
    "Country = pd.DataFrame(Countries)\n",
    "Country.head()"
   ]
  },
  {
   "cell_type": "code",
   "execution_count": 9,
   "metadata": {},
   "outputs": [
    {
     "data": {
      "text/plain": [
       "<Worksheet 'Covid-19 Summary' id:0>"
      ]
     },
     "execution_count": 9,
     "metadata": {},
     "output_type": "execute_result"
    }
   ],
   "source": [
    "# Set the sheet name you want to upload data to and the start cell where the upload data begins \n",
    "wks_name = 'Covid-19 Summary'\n",
    "\n",
    "# upload the dataframe of the clients we want to delete\n",
    "d2g.upload(Country, spreadsheet_key, wks_name, credentials = credentials, col_names = True, \n",
    "           row_names = True, clean = True)"
   ]
  },
  {
   "cell_type": "code",
   "execution_count": 10,
   "metadata": {},
   "outputs": [
    {
     "name": "stdout",
     "output_type": "stream",
     "text": [
      "200\n"
     ]
    }
   ],
   "source": [
    "response2 = requests.get(\"https://api.covid19api.com/dayone/country/south-africa/status/confirmed/live\")\n",
    "print(response2.status_code)"
   ]
  },
  {
   "cell_type": "code",
   "execution_count": 11,
   "metadata": {},
   "outputs": [
    {
     "data": {
      "text/plain": [
       "list"
      ]
     },
     "execution_count": 11,
     "metadata": {},
     "output_type": "execute_result"
    }
   ],
   "source": [
    "def jprint(obj):\n",
    "    # create a formatted string of the Python JSON object\n",
    "    text = json.dumps(obj, sort_keys = True, indent = 4, separators = (',', ': '))\n",
    "    \n",
    "type(response2.json())"
   ]
  },
  {
   "cell_type": "code",
   "execution_count": 12,
   "metadata": {},
   "outputs": [
    {
     "data": {
      "text/html": [
       "<div>\n",
       "<style scoped>\n",
       "    .dataframe tbody tr th:only-of-type {\n",
       "        vertical-align: middle;\n",
       "    }\n",
       "\n",
       "    .dataframe tbody tr th {\n",
       "        vertical-align: top;\n",
       "    }\n",
       "\n",
       "    .dataframe thead th {\n",
       "        text-align: right;\n",
       "    }\n",
       "</style>\n",
       "<table border=\"1\" class=\"dataframe\">\n",
       "  <thead>\n",
       "    <tr style=\"text-align: right;\">\n",
       "      <th></th>\n",
       "      <th>Country</th>\n",
       "      <th>CountryCode</th>\n",
       "      <th>Province</th>\n",
       "      <th>City</th>\n",
       "      <th>CityCode</th>\n",
       "      <th>Lat</th>\n",
       "      <th>Lon</th>\n",
       "      <th>Cases</th>\n",
       "      <th>Status</th>\n",
       "      <th>Date</th>\n",
       "    </tr>\n",
       "  </thead>\n",
       "  <tbody>\n",
       "    <tr>\n",
       "      <th>0</th>\n",
       "      <td>South Africa</td>\n",
       "      <td>ZA</td>\n",
       "      <td></td>\n",
       "      <td></td>\n",
       "      <td></td>\n",
       "      <td>-30.56</td>\n",
       "      <td>22.94</td>\n",
       "      <td>1</td>\n",
       "      <td>confirmed</td>\n",
       "      <td>2020-03-05T00:00:00Z</td>\n",
       "    </tr>\n",
       "    <tr>\n",
       "      <th>1</th>\n",
       "      <td>South Africa</td>\n",
       "      <td>ZA</td>\n",
       "      <td></td>\n",
       "      <td></td>\n",
       "      <td></td>\n",
       "      <td>-30.56</td>\n",
       "      <td>22.94</td>\n",
       "      <td>1</td>\n",
       "      <td>confirmed</td>\n",
       "      <td>2020-03-06T00:00:00Z</td>\n",
       "    </tr>\n",
       "    <tr>\n",
       "      <th>2</th>\n",
       "      <td>South Africa</td>\n",
       "      <td>ZA</td>\n",
       "      <td></td>\n",
       "      <td></td>\n",
       "      <td></td>\n",
       "      <td>-30.56</td>\n",
       "      <td>22.94</td>\n",
       "      <td>1</td>\n",
       "      <td>confirmed</td>\n",
       "      <td>2020-03-07T00:00:00Z</td>\n",
       "    </tr>\n",
       "    <tr>\n",
       "      <th>3</th>\n",
       "      <td>South Africa</td>\n",
       "      <td>ZA</td>\n",
       "      <td></td>\n",
       "      <td></td>\n",
       "      <td></td>\n",
       "      <td>-30.56</td>\n",
       "      <td>22.94</td>\n",
       "      <td>3</td>\n",
       "      <td>confirmed</td>\n",
       "      <td>2020-03-08T00:00:00Z</td>\n",
       "    </tr>\n",
       "    <tr>\n",
       "      <th>4</th>\n",
       "      <td>South Africa</td>\n",
       "      <td>ZA</td>\n",
       "      <td></td>\n",
       "      <td></td>\n",
       "      <td></td>\n",
       "      <td>-30.56</td>\n",
       "      <td>22.94</td>\n",
       "      <td>3</td>\n",
       "      <td>confirmed</td>\n",
       "      <td>2020-03-09T00:00:00Z</td>\n",
       "    </tr>\n",
       "  </tbody>\n",
       "</table>\n",
       "</div>"
      ],
      "text/plain": [
       "        Country CountryCode Province City CityCode     Lat    Lon  Cases  \\\n",
       "0  South Africa          ZA                         -30.56  22.94      1   \n",
       "1  South Africa          ZA                         -30.56  22.94      1   \n",
       "2  South Africa          ZA                         -30.56  22.94      1   \n",
       "3  South Africa          ZA                         -30.56  22.94      3   \n",
       "4  South Africa          ZA                         -30.56  22.94      3   \n",
       "\n",
       "      Status                  Date  \n",
       "0  confirmed  2020-03-05T00:00:00Z  \n",
       "1  confirmed  2020-03-06T00:00:00Z  \n",
       "2  confirmed  2020-03-07T00:00:00Z  \n",
       "3  confirmed  2020-03-08T00:00:00Z  \n",
       "4  confirmed  2020-03-09T00:00:00Z  "
      ]
     },
     "execution_count": 12,
     "metadata": {},
     "output_type": "execute_result"
    }
   ],
   "source": [
    "SA_confirmed = pd.DataFrame(response2.json())\n",
    "SA_confirmed.head()"
   ]
  },
  {
   "cell_type": "code",
   "execution_count": 13,
   "metadata": {},
   "outputs": [
    {
     "data": {
      "text/plain": [
       "<Worksheet 'Covid-19: SA Data' id:1067330366>"
      ]
     },
     "execution_count": 13,
     "metadata": {},
     "output_type": "execute_result"
    }
   ],
   "source": [
    "# Set the sheet name you want to upload data to and the start cell where the upload data begins \n",
    "wks_name = 'Covid-19: SA Data'\n",
    "\n",
    "# upload the dataframe of the clients we want to delete\n",
    "d2g.upload(SA_confirmed, spreadsheet_key, wks_name, credentials = credentials, col_names = True, \n",
    "           row_names = True, clean = True)"
   ]
  },
  {
   "cell_type": "code",
   "execution_count": 14,
   "metadata": {},
   "outputs": [
    {
     "name": "stdout",
     "output_type": "stream",
     "text": [
      "200\n"
     ]
    }
   ],
   "source": [
    "response3 = requests.get(\"https://api.covid19api.com/live/country/south-africa\")\n",
    "print(response2.status_code)"
   ]
  },
  {
   "cell_type": "code",
   "execution_count": 15,
   "metadata": {},
   "outputs": [
    {
     "data": {
      "text/plain": [
       "list"
      ]
     },
     "execution_count": 15,
     "metadata": {},
     "output_type": "execute_result"
    }
   ],
   "source": [
    "def jprint(obj):\n",
    "    # create a formatted string of the Python JSON object\n",
    "    text = json.dumps(obj, sort_keys = True, indent = 4, separators = (',', ': '))\n",
    "    \n",
    "type(response3.json())"
   ]
  },
  {
   "cell_type": "code",
   "execution_count": 16,
   "metadata": {},
   "outputs": [
    {
     "data": {
      "text/html": [
       "<div>\n",
       "<style scoped>\n",
       "    .dataframe tbody tr th:only-of-type {\n",
       "        vertical-align: middle;\n",
       "    }\n",
       "\n",
       "    .dataframe tbody tr th {\n",
       "        vertical-align: top;\n",
       "    }\n",
       "\n",
       "    .dataframe thead th {\n",
       "        text-align: right;\n",
       "    }\n",
       "</style>\n",
       "<table border=\"1\" class=\"dataframe\">\n",
       "  <thead>\n",
       "    <tr style=\"text-align: right;\">\n",
       "      <th></th>\n",
       "      <th>Country</th>\n",
       "      <th>CountryCode</th>\n",
       "      <th>Province</th>\n",
       "      <th>City</th>\n",
       "      <th>CityCode</th>\n",
       "      <th>Lat</th>\n",
       "      <th>Lon</th>\n",
       "      <th>Confirmed</th>\n",
       "      <th>Deaths</th>\n",
       "      <th>Recovered</th>\n",
       "      <th>Active</th>\n",
       "      <th>Date</th>\n",
       "    </tr>\n",
       "  </thead>\n",
       "  <tbody>\n",
       "    <tr>\n",
       "      <th>11</th>\n",
       "      <td>South Africa</td>\n",
       "      <td>ZA</td>\n",
       "      <td></td>\n",
       "      <td></td>\n",
       "      <td></td>\n",
       "      <td>-30.56</td>\n",
       "      <td>22.94</td>\n",
       "      <td>3953</td>\n",
       "      <td>75</td>\n",
       "      <td>1473</td>\n",
       "      <td>2405</td>\n",
       "      <td>2020-04-24T00:00:00Z</td>\n",
       "    </tr>\n",
       "    <tr>\n",
       "      <th>12</th>\n",
       "      <td>South Africa</td>\n",
       "      <td>ZA</td>\n",
       "      <td></td>\n",
       "      <td></td>\n",
       "      <td></td>\n",
       "      <td>-30.56</td>\n",
       "      <td>22.94</td>\n",
       "      <td>4220</td>\n",
       "      <td>79</td>\n",
       "      <td>1473</td>\n",
       "      <td>2668</td>\n",
       "      <td>2020-04-25T00:00:00Z</td>\n",
       "    </tr>\n",
       "    <tr>\n",
       "      <th>13</th>\n",
       "      <td>South Africa</td>\n",
       "      <td>ZA</td>\n",
       "      <td></td>\n",
       "      <td></td>\n",
       "      <td></td>\n",
       "      <td>-30.56</td>\n",
       "      <td>22.94</td>\n",
       "      <td>4361</td>\n",
       "      <td>86</td>\n",
       "      <td>1473</td>\n",
       "      <td>2802</td>\n",
       "      <td>2020-04-26T00:00:00Z</td>\n",
       "    </tr>\n",
       "    <tr>\n",
       "      <th>14</th>\n",
       "      <td>South Africa</td>\n",
       "      <td>ZA</td>\n",
       "      <td></td>\n",
       "      <td></td>\n",
       "      <td></td>\n",
       "      <td>-30.56</td>\n",
       "      <td>22.94</td>\n",
       "      <td>4546</td>\n",
       "      <td>87</td>\n",
       "      <td>1473</td>\n",
       "      <td>2986</td>\n",
       "      <td>2020-04-27T00:00:00Z</td>\n",
       "    </tr>\n",
       "    <tr>\n",
       "      <th>15</th>\n",
       "      <td>South Africa</td>\n",
       "      <td>ZA</td>\n",
       "      <td></td>\n",
       "      <td></td>\n",
       "      <td></td>\n",
       "      <td>-30.56</td>\n",
       "      <td>22.94</td>\n",
       "      <td>4793</td>\n",
       "      <td>90</td>\n",
       "      <td>1473</td>\n",
       "      <td>3230</td>\n",
       "      <td>2020-04-28T00:00:00Z</td>\n",
       "    </tr>\n",
       "  </tbody>\n",
       "</table>\n",
       "</div>"
      ],
      "text/plain": [
       "         Country CountryCode Province City CityCode     Lat    Lon  Confirmed  \\\n",
       "11  South Africa          ZA                         -30.56  22.94       3953   \n",
       "12  South Africa          ZA                         -30.56  22.94       4220   \n",
       "13  South Africa          ZA                         -30.56  22.94       4361   \n",
       "14  South Africa          ZA                         -30.56  22.94       4546   \n",
       "15  South Africa          ZA                         -30.56  22.94       4793   \n",
       "\n",
       "    Deaths  Recovered  Active                  Date  \n",
       "11      75       1473    2405  2020-04-24T00:00:00Z  \n",
       "12      79       1473    2668  2020-04-25T00:00:00Z  \n",
       "13      86       1473    2802  2020-04-26T00:00:00Z  \n",
       "14      87       1473    2986  2020-04-27T00:00:00Z  \n",
       "15      90       1473    3230  2020-04-28T00:00:00Z  "
      ]
     },
     "execution_count": 16,
     "metadata": {},
     "output_type": "execute_result"
    }
   ],
   "source": [
    "SA_live = pd.DataFrame(response3.json())\n",
    "SA_live.tail()"
   ]
  },
  {
   "cell_type": "code",
   "execution_count": 17,
   "metadata": {},
   "outputs": [
    {
     "data": {
      "text/plain": [
       "<Worksheet 'Covid-19: SA Summary' id:1351985275>"
      ]
     },
     "execution_count": 17,
     "metadata": {},
     "output_type": "execute_result"
    }
   ],
   "source": [
    "# Set the sheet name you want to upload data to and the start cell where the upload data begins \n",
    "wks_name = 'Covid-19: SA Summary'\n",
    "\n",
    "# upload the dataframe of the clients we want to delete\n",
    "d2g.upload(SA_live, spreadsheet_key, wks_name, credentials = credentials, col_names = True, \n",
    "           row_names = True, clean = True)"
   ]
  },
  {
   "cell_type": "code",
   "execution_count": null,
   "metadata": {},
   "outputs": [],
   "source": []
  }
 ],
 "metadata": {
  "kernelspec": {
   "display_name": "Python 3",
   "language": "python",
   "name": "python3"
  },
  "language_info": {
   "codemirror_mode": {
    "name": "ipython",
    "version": 3
   },
   "file_extension": ".py",
   "mimetype": "text/x-python",
   "name": "python",
   "nbconvert_exporter": "python",
   "pygments_lexer": "ipython3",
   "version": "3.7.3"
  }
 },
 "nbformat": 4,
 "nbformat_minor": 4
}
